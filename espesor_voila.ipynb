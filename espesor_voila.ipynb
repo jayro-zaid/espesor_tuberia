{
 "cells": [
  {
   "cell_type": "markdown",
   "id": "9d221cbf",
   "metadata": {},
   "source": [
    "# Análisis Comparativo de Diseño de Tuberías según Códigos ASME B31.X"
   ]
  },
  {
   "cell_type": "markdown",
   "id": "0d0a6af2",
   "metadata": {},
   "source": [
    "## ASME B31.1:2022"
   ]
  },
  {
   "cell_type": "code",
   "execution_count": 3,
   "id": "d4dbe249",
   "metadata": {},
   "outputs": [],
   "source": [
    "from math import sqrt\n",
    "from math import pi, sqrt\n",
    "import ipywidgets as widgets\n",
    "from IPython.display import display, Markdown"
   ]
  },
  {
   "cell_type": "markdown",
   "id": "2944798a",
   "metadata": {},
   "source": [
    "### CÁLCULO DEL ESPESOR REQUERIDO"
   ]
  },
  {
   "cell_type": "code",
   "execution_count": 4,
   "id": "292ffb5e",
   "metadata": {},
   "outputs": [
    {
     "data": {
      "application/vnd.jupyter.widget-view+json": {
       "model_id": "209722e8a05f441795d062e71361861d",
       "version_major": 2,
       "version_minor": 0
      },
      "text/plain": [
       "FloatSlider(value=2.0, description='P [MPa]', max=10.0, min=0.1)"
      ]
     },
     "metadata": {},
     "output_type": "display_data"
    },
    {
     "data": {
      "application/vnd.jupyter.widget-view+json": {
       "model_id": "e29d34e17c914f27b38a65c866892842",
       "version_major": 2,
       "version_minor": 0
      },
      "text/plain": [
       "FloatSlider(value=219.1, description='D_o [mm]', max=600.0, min=50.0, step=1.0)"
      ]
     },
     "metadata": {},
     "output_type": "display_data"
    },
    {
     "data": {
      "application/vnd.jupyter.widget-view+json": {
       "model_id": "eb6ca87f41964243ac1f05089882e846",
       "version_major": 2,
       "version_minor": 0
      },
      "text/plain": [
       "FloatSlider(value=120.0, description='S [MPa]', max=300.0, min=10.0, step=1.0)"
      ]
     },
     "metadata": {},
     "output_type": "display_data"
    },
    {
     "data": {
      "application/vnd.jupyter.widget-view+json": {
       "model_id": "48914ff4f3a94665b3b75077206b252e",
       "version_major": 2,
       "version_minor": 0
      },
      "text/plain": [
       "FloatSlider(value=1.0, description='E [adim]', max=1.0, min=0.6, step=0.05)"
      ]
     },
     "metadata": {},
     "output_type": "display_data"
    },
    {
     "data": {
      "application/vnd.jupyter.widget-view+json": {
       "model_id": "8b58a13711f8469891ee07459bbaef84",
       "version_major": 2,
       "version_minor": 0
      },
      "text/plain": [
       "FloatSlider(value=1.0, description='W [adim]', max=1.0, min=0.5, step=0.05)"
      ]
     },
     "metadata": {},
     "output_type": "display_data"
    },
    {
     "data": {
      "application/vnd.jupyter.widget-view+json": {
       "model_id": "eaeef20398e84b28a01578eeed44e935",
       "version_major": 2,
       "version_minor": 0
      },
      "text/plain": [
       "FloatSlider(value=0.4, description='Y [adim]', max=0.8, step=0.05)"
      ]
     },
     "metadata": {},
     "output_type": "display_data"
    },
    {
     "data": {
      "application/vnd.jupyter.widget-view+json": {
       "model_id": "cbf0dfe998464e10b60f20b08f797cb5",
       "version_major": 2,
       "version_minor": 0
      },
      "text/plain": [
       "FloatText(value=1.5, description='A [mm]')"
      ]
     },
     "metadata": {},
     "output_type": "display_data"
    },
    {
     "data": {
      "application/vnd.jupyter.widget-view+json": {
       "model_id": "4880614b8e5d4b388095d58883b46d8e",
       "version_major": 2,
       "version_minor": 0
      },
      "text/plain": [
       "FloatText(value=8.18, description='t_nominal [mm]')"
      ]
     },
     "metadata": {},
     "output_type": "display_data"
    },
    {
     "data": {
      "application/vnd.jupyter.widget-view+json": {
       "model_id": "885b83a294634ec9a0aa2a45c6fbcbc1",
       "version_major": 2,
       "version_minor": 0
      },
      "text/plain": [
       "FloatSlider(value=0.125, description='Tolerancia', max=0.3, step=0.01)"
      ]
     },
     "metadata": {},
     "output_type": "display_data"
    },
    {
     "data": {
      "text/markdown": [
       "\n",
       "### 📊 RESULTADOS\n",
       "\n",
       "- 📏 **Espesor mínimo requerido**: `3.31 mm`  \n",
       "- 📐 **Espesor disponible**: `7.16 mm`  \n",
       "\n",
       "**Criterio de aceptación**: ✅ Cumplido\n"
      ],
      "text/plain": [
       "<IPython.core.display.Markdown object>"
      ]
     },
     "metadata": {},
     "output_type": "display_data"
    }
   ],
   "source": [
    "# # 🧮 CÁLCULO DEL ESPESOR MÍNIMO REQUERIDO\n",
    "# Basado en ASME B31.3 – Tuberías sometidas a presión interna\n",
    "\n",
    "# ═══════════════════════════════════════════════════════════════════════════\n",
    "# PARÁMETROS INTERACTIVOS DE ENTRADA\n",
    "# ═══════════════════════════════════════════════════════════════════════════\n",
    "\n",
    "P     = widgets.FloatSlider(value=2.0, min=0.1, max=10.0, step=0.1, description='P [MPa]')\n",
    "D_o   = widgets.FloatSlider(value=219.1, min=50.0, max=600.0, step=1.0, description='D_o [mm]')\n",
    "S     = widgets.FloatSlider(value=120.0, min=10.0, max=300.0, step=1.0, description='S [MPa]')\n",
    "E     = widgets.FloatSlider(value=1.0, min=0.6, max=1.0, step=0.05, description='E [adim]')\n",
    "W     = widgets.FloatSlider(value=1.0, min=0.5, max=1.0, step=0.05, description='W [adim]')\n",
    "Y     = widgets.FloatSlider(value=0.4, min=0.0, max=0.8, step=0.05, description='Y [adim]')\n",
    "A     = widgets.FloatText(value=1.5, description='A [mm]')\n",
    "t_n   = widgets.FloatText(value=8.18, description='t_nominal [mm]')\n",
    "tol   = widgets.FloatSlider(value=0.125, min=0.0, max=0.3, step=0.01, description='Tolerancia')\n",
    "\n",
    "# Mostrar controles\n",
    "display(P, D_o, S, E, W, Y, A, t_n, tol)\n",
    "\n",
    "# ═══════════════════════════════════════════════════════════════════════════\n",
    "# CÁLCULO\n",
    "# ═══════════════════════════════════════════════════════════════════════════\n",
    "\n",
    "# Conversión a SI\n",
    "P_si    = P.value * 1e6           # Pa\n",
    "D_o_si  = D_o.value / 1000        # m\n",
    "S_si    = S.value * 1e6           # Pa\n",
    "A_si    = A.value / 1000          # m\n",
    "t_n_si  = t_n.value / 1000        # m\n",
    "tol_val = tol.value\n",
    "\n",
    "# Cálculo del espesor mínimo requerido\n",
    "numerador   = P_si * D_o_si\n",
    "denominador = 2 * (S_si * E.value * W.value + P_si * Y.value)\n",
    "t_min_si    = (numerador / denominador) + A_si  # m\n",
    "\n",
    "# Espesor disponible con tolerancia\n",
    "t_disp_si = t_n_si * (1 - tol_val)  # m\n",
    "\n",
    "# Verificación\n",
    "criterio = t_disp_si >= t_min_si\n",
    "\n",
    "# Resultados en mm\n",
    "t_min  = t_min_si * 1000\n",
    "t_disp = t_disp_si * 1000\n",
    "\n",
    "# ═══════════════════════════════════════════════════════════════════════════\n",
    "# RESULTADOS\n",
    "# ═══════════════════════════════════════════════════════════════════════════\n",
    "\n",
    "display(Markdown(f\"\"\"\n",
    "### 📊 RESULTADOS\n",
    "\n",
    "- 📏 **Espesor mínimo requerido**: `{t_min:.2f} mm`  \n",
    "- 📐 **Espesor disponible**: `{t_disp:.2f} mm`  \n",
    "\n",
    "**Criterio de aceptación**: {\"✅ Cumplido\" if criterio else \"❌ NO Cumplido\"}\n",
    "\"\"\"))"
   ]
  }
 ],
 "metadata": {
  "kernelspec": {
   "display_name": "venv (3.13.5)",
   "language": "python",
   "name": "python3"
  },
  "language_info": {
   "codemirror_mode": {
    "name": "ipython",
    "version": 3
   },
   "file_extension": ".py",
   "mimetype": "text/x-python",
   "name": "python",
   "nbconvert_exporter": "python",
   "pygments_lexer": "ipython3",
   "version": "3.13.5"
  }
 },
 "nbformat": 4,
 "nbformat_minor": 5
}

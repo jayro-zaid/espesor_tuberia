{
 "cells": [
  {
   "cell_type": "markdown",
   "id": "9d221cbf",
   "metadata": {},
   "source": [
    "# Análisis Comparativo de Diseño de Tuberías según Códigos ASME B31.X"
   ]
  },
  {
   "cell_type": "markdown",
   "id": "0d0a6af2",
   "metadata": {},
   "source": [
    "## ASME B31.1:2022"
   ]
  },
  {
   "cell_type": "code",
   "execution_count": 34,
   "id": "d4dbe249",
   "metadata": {},
   "outputs": [],
   "source": [
    "from math import pi, sqrt\n",
    "import ipywidgets as widgets\n",
    "from IPython.display import display, HTML"
   ]
  },
  {
   "cell_type": "markdown",
   "id": "2944798a",
   "metadata": {},
   "source": [
    "### CÁLCULO DEL ESPESOR REQUERIDO"
   ]
  },
  {
   "cell_type": "code",
   "execution_count": 35,
   "id": "b86455a9",
   "metadata": {},
   "outputs": [
    {
     "data": {
      "application/vnd.jupyter.widget-view+json": {
       "model_id": "2457534569fd46d3b8b7d9c6d3f0e138",
       "version_major": 2,
       "version_minor": 0
      },
      "text/plain": [
       "FloatSlider(value=2.0, description='P [MPa]', max=10.0, min=0.1)"
      ]
     },
     "metadata": {},
     "output_type": "display_data"
    },
    {
     "data": {
      "application/vnd.jupyter.widget-view+json": {
       "model_id": "97bfca101125404ba1d31dbb520b94b5",
       "version_major": 2,
       "version_minor": 0
      },
      "text/plain": [
       "FloatSlider(value=219.1, description='D_o [mm]', max=600.0, min=50.0, step=1.0)"
      ]
     },
     "metadata": {},
     "output_type": "display_data"
    },
    {
     "data": {
      "application/vnd.jupyter.widget-view+json": {
       "model_id": "7aa6e182670747f5b36c76a249cf807c",
       "version_major": 2,
       "version_minor": 0
      },
      "text/plain": [
       "FloatSlider(value=120.0, description='S [MPa]', max=300.0, min=10.0, step=1.0)"
      ]
     },
     "metadata": {},
     "output_type": "display_data"
    },
    {
     "data": {
      "application/vnd.jupyter.widget-view+json": {
       "model_id": "67410a757629465ca6ae37728df9099f",
       "version_major": 2,
       "version_minor": 0
      },
      "text/plain": [
       "FloatSlider(value=1.0, description='E', max=1.0, min=0.6, step=0.05)"
      ]
     },
     "metadata": {},
     "output_type": "display_data"
    },
    {
     "data": {
      "application/vnd.jupyter.widget-view+json": {
       "model_id": "2d258533c1c245c2be0e58e00fb59f7b",
       "version_major": 2,
       "version_minor": 0
      },
      "text/plain": [
       "FloatSlider(value=1.0, description='W', max=1.0, min=0.5, step=0.05)"
      ]
     },
     "metadata": {},
     "output_type": "display_data"
    },
    {
     "data": {
      "application/vnd.jupyter.widget-view+json": {
       "model_id": "4495572766da4263950b6c57c4ad4dae",
       "version_major": 2,
       "version_minor": 0
      },
      "text/plain": [
       "FloatSlider(value=0.4, description='Y', max=0.8, step=0.05)"
      ]
     },
     "metadata": {},
     "output_type": "display_data"
    },
    {
     "data": {
      "application/vnd.jupyter.widget-view+json": {
       "model_id": "8749b4923ffa406dbed19d3ee57e8e44",
       "version_major": 2,
       "version_minor": 0
      },
      "text/plain": [
       "FloatText(value=1.5, description='A [mm]')"
      ]
     },
     "metadata": {},
     "output_type": "display_data"
    },
    {
     "data": {
      "application/vnd.jupyter.widget-view+json": {
       "model_id": "cf3c24b929034150a8ab726088659879",
       "version_major": 2,
       "version_minor": 0
      },
      "text/plain": [
       "FloatText(value=8.18, description='t_n [mm]')"
      ]
     },
     "metadata": {},
     "output_type": "display_data"
    },
    {
     "data": {
      "application/vnd.jupyter.widget-view+json": {
       "model_id": "749eed28f17148f296718c0bac1cec34",
       "version_major": 2,
       "version_minor": 0
      },
      "text/plain": [
       "FloatSlider(value=0.125, description='Tol', max=0.3, readout_format='.3f', step=0.001)"
      ]
     },
     "metadata": {},
     "output_type": "display_data"
    },
    {
     "data": {
      "application/vnd.jupyter.widget-view+json": {
       "model_id": "779dc203a9b74c87a54ee917a1b6a8c8",
       "version_major": 2,
       "version_minor": 0
      },
      "text/plain": [
       "Button(button_style='warning', description='🔄 Resetear valores', style=ButtonStyle())"
      ]
     },
     "metadata": {},
     "output_type": "display_data"
    },
    {
     "data": {
      "application/vnd.jupyter.widget-view+json": {
       "model_id": "04c3439901f0455f9b1b1e4d82105a01",
       "version_major": 2,
       "version_minor": 0
      },
      "text/plain": [
       "Output()"
      ]
     },
     "metadata": {},
     "output_type": "display_data"
    }
   ],
   "source": [
    "# %% [markdown]\n",
    "# # ⚙️ Cálculo de Espesor Mínimo Requerido\n",
    "# Según ASME B31.3 \n",
    "\n",
    "# === Valores por defecto ===\n",
    "ER_defaults = {\n",
    "    \"P\": 2.0,\n",
    "    \"D_o\": 219.1,\n",
    "    \"S\": 120.0,\n",
    "    \"E\": 1.0,\n",
    "    \"W\": 1.0,\n",
    "    \"Y\": 0.4,\n",
    "    \"A\": 1.5,\n",
    "    \"t_n\": 8.18,\n",
    "    \"tol\": 0.125\n",
    "}\n",
    "\n",
    "# === Widgets de entrada ===\n",
    "ER_P    = widgets.FloatSlider(value=ER_defaults[\"P\"], min=0.1, max=10.0, step=0.1, description='P [MPa]')\n",
    "ER_D_o  = widgets.FloatSlider(value=ER_defaults[\"D_o\"], min=50, max=600, step=1, description='D_o [mm]')\n",
    "ER_S    = widgets.FloatSlider(value=ER_defaults[\"S\"], min=10, max=300, step=1, description='S [MPa]')\n",
    "ER_E    = widgets.FloatSlider(value=ER_defaults[\"E\"], min=0.6, max=1.0, step=0.05, description='E')\n",
    "ER_W    = widgets.FloatSlider(value=ER_defaults[\"W\"], min=0.5, max=1.0, step=0.05, description='W')\n",
    "ER_Y    = widgets.FloatSlider(value=ER_defaults[\"Y\"], min=0.0, max=0.8, step=0.05, description='Y')\n",
    "ER_A    = widgets.FloatText(value=ER_defaults[\"A\"], description='A [mm]')\n",
    "ER_t_n  = widgets.FloatText(value=ER_defaults[\"t_n\"], description='t_n [mm]')\n",
    "ER_tol  = widgets.FloatSlider(value=ER_defaults[\"tol\"], min=0.0, max=0.3, step=0.001, description='Tol', readout_format='.3f')\n",
    "\n",
    "# Botón reset\n",
    "ER_reset_btn = widgets.Button(description=\"🔄 Resetear valores\", button_style=\"warning\")\n",
    "\n",
    "# === Función de reset ===\n",
    "def ER_reset_values(b):\n",
    "    ER_P.value    = ER_defaults.get(\"P\", 2.0)\n",
    "    ER_D_o.value  = ER_defaults.get(\"D_o\", 219.1)\n",
    "    ER_S.value    = ER_defaults.get(\"S\", 120.0)\n",
    "    ER_E.value    = ER_defaults.get(\"E\", 1.0)\n",
    "    ER_W.value    = ER_defaults.get(\"W\", 1.0)\n",
    "    ER_Y.value    = ER_defaults.get(\"Y\", 0.4)\n",
    "    ER_A.value    = ER_defaults.get(\"A\", 1.5)\n",
    "    ER_t_n.value  = ER_defaults.get(\"t_n\", 8.18)\n",
    "    ER_tol.value  = ER_defaults.get(\"tol\", 0.125)\n",
    "\n",
    "ER_reset_btn.on_click(ER_reset_values)\n",
    "\n",
    "# Mostrar controles + botón\n",
    "display(ER_P, ER_D_o, ER_S, ER_E, ER_W, ER_Y, ER_A, ER_t_n, ER_tol, ER_reset_btn)\n",
    "\n",
    "# === Función de cálculo ===\n",
    "def ER_calcular(P, D_o, S, E, W, Y, A, t_n, tol):\n",
    "    P_si    = P * 1e6\n",
    "    D_o_si  = D_o / 1000\n",
    "    S_si    = S * 1e6\n",
    "    A_si    = A / 1000\n",
    "    t_n_si  = t_n / 1000\n",
    "\n",
    "    numerador   = P_si * D_o_si\n",
    "    denominador = 2 * (S_si * E * W + P_si * Y)\n",
    "    t_min_si    = (numerador / denominador) + A_si\n",
    "\n",
    "    t_disp_si = t_n_si * (1 - tol)\n",
    "\n",
    "    t_min  = t_min_si * 1000\n",
    "    t_disp = t_disp_si * 1000\n",
    "    criterio = \"✅ Cumplido\" if t_disp_si >= t_min_si else \"❌ NO Cumplido\"\n",
    "\n",
    "    html = f\"\"\"\n",
    "    <div style=\"border:2px solid #004080; border-radius:10px; padding:15px; background:#f9f9f9; font-family:Arial;\">\n",
    "        <h3 style=\"color:#004080;\">📊 Resultados del Cálculo</h3>\n",
    "        <ul style=\"font-size:15px; line-height:1.6;\">\n",
    "            <li>📏 <b>Espesor mínimo requerido:</b> {t_min:.2f} mm</li>\n",
    "            <li>📐 <b>Espesor disponible:</b> {t_disp:.2f} mm</li>\n",
    "        </ul>\n",
    "        <p style=\"font-size:16px;\"><b>Criterio de aceptación:</b> {criterio}</p>\n",
    "    </div>\n",
    "    \"\"\"\n",
    "    display(HTML(html))\n",
    "\n",
    "# === Conectar widgets ===\n",
    "ER_out = widgets.interactive_output(\n",
    "    ER_calcular, {\n",
    "        \"P\": ER_P, \"D_o\": ER_D_o, \"S\": ER_S, \"E\": ER_E,\n",
    "        \"W\": ER_W, \"Y\": ER_Y, \"A\": ER_A, \"t_n\": ER_t_n, \"tol\": ER_tol\n",
    "    }\n",
    ")\n",
    "display(ER_out)"
   ]
  },
  {
   "cell_type": "markdown",
   "id": "bf9ef11e",
   "metadata": {},
   "source": [
    "### CÁLCULO DE ESFUERZOS"
   ]
  },
  {
   "cell_type": "code",
   "execution_count": null,
   "id": "925e7f78",
   "metadata": {},
   "outputs": [
    {
     "data": {
      "application/vnd.jupyter.widget-view+json": {
       "model_id": "876bcf91c68d41e485c255f588203fc2",
       "version_major": 2,
       "version_minor": 0
      },
      "text/plain": [
       "FloatSlider(value=2.0, description='P [MPa]', max=10.0, min=0.1)"
      ]
     },
     "metadata": {},
     "output_type": "display_data"
    },
    {
     "data": {
      "application/vnd.jupyter.widget-view+json": {
       "model_id": "dba892ee19b944fa931838fbf038398b",
       "version_major": 2,
       "version_minor": 0
      },
      "text/plain": [
       "FloatSlider(value=219.1, description='D_o [mm]', max=600.0, min=50.0, step=1.0)"
      ]
     },
     "metadata": {},
     "output_type": "display_data"
    },
    {
     "data": {
      "application/vnd.jupyter.widget-view+json": {
       "model_id": "034b21ba542b439798047f2b56b420ab",
       "version_major": 2,
       "version_minor": 0
      },
      "text/plain": [
       "FloatSlider(value=8.18, description='t_n [mm]', max=30.0, min=1.0)"
      ]
     },
     "metadata": {},
     "output_type": "display_data"
    },
    {
     "data": {
      "application/vnd.jupyter.widget-view+json": {
       "model_id": "52ebe124cb374bf982ad3c014815176b",
       "version_major": 2,
       "version_minor": 0
      },
      "text/plain": [
       "FloatText(value=0.005, description='A_p [m²]')"
      ]
     },
     "metadata": {},
     "output_type": "display_data"
    },
    {
     "data": {
      "application/vnd.jupyter.widget-view+json": {
       "model_id": "e12e721a74ad47d6b3bcb94ce77d3ccf",
       "version_major": 2,
       "version_minor": 0
      },
      "text/plain": [
       "FloatText(value=0.0002756, description='Z [m³]')"
      ]
     },
     "metadata": {},
     "output_type": "display_data"
    },
    {
     "data": {
      "application/vnd.jupyter.widget-view+json": {
       "model_id": "5c1c2646ea814df59b76d39aabe2715c",
       "version_major": 2,
       "version_minor": 0
      },
      "text/plain": [
       "FloatText(value=0.0005511, description='Z_t [m³]')"
      ]
     },
     "metadata": {},
     "output_type": "display_data"
    },
    {
     "data": {
      "application/vnd.jupyter.widget-view+json": {
       "model_id": "1afe2bb414f54461aba32a2c69d12639",
       "version_major": 2,
       "version_minor": 0
      },
      "text/plain": [
       "FloatText(value=120.0, description='S_h [MPa]')"
      ]
     },
     "metadata": {},
     "output_type": "display_data"
    },
    {
     "data": {
      "application/vnd.jupyter.widget-view+json": {
       "model_id": "3e459c45bc0f4cc69bff8ff34e8862e4",
       "version_major": 2,
       "version_minor": 0
      },
      "text/plain": [
       "FloatText(value=138.0, description='S_c [MPa]')"
      ]
     },
     "metadata": {},
     "output_type": "display_data"
    },
    {
     "data": {
      "application/vnd.jupyter.widget-view+json": {
       "model_id": "f4f50844682e4ceb94fd8b745ef768f6",
       "version_major": 2,
       "version_minor": 0
      },
      "text/plain": [
       "Button(button_style='warning', description='🔄 Resetear valores', style=ButtonStyle())"
      ]
     },
     "metadata": {},
     "output_type": "display_data"
    },
    {
     "data": {
      "application/vnd.jupyter.widget-view+json": {
       "model_id": "dc12db6f0b7848a2a300243765cdc46b",
       "version_major": 2,
       "version_minor": 0
      },
      "text/plain": [
       "Output()"
      ]
     },
     "metadata": {},
     "output_type": "display_data"
    }
   ],
   "source": [
    "# %% [markdown]\n",
    "# # ⚙️ Cálculo de Esfuerzos Combinados en Tuberías\n",
    "# Basado en ASME B31.3 – Ecuaciones 15, 16 y 17\n",
    "\n",
    "# === Valores por defecto ===\n",
    "EC_defaults = {\n",
    "    \"P\": 2.0,\n",
    "    \"D_o\": 219.1,\n",
    "    \"t_n\": 8.18,\n",
    "    \"A_p\": 0.005,\n",
    "    \"Z\": 0.0002756,\n",
    "    \"Z_t\": 0.0005511,\n",
    "    \"S_h\": 120.0,\n",
    "    \"S_c\": 138.0,\n",
    "    \"F_a\": 0.0, \"M_iA\": 3000.0, \"M_oA\": 1500.0, \"M_tA\": 0.0,\n",
    "    \"F_b\": 0.0, \"M_iB\": 8000.0, \"M_oB\": 3500.0, \"M_tB\": 0.0,\n",
    "    \"F_c\": 0.0, \"M_iC\": 12000.0, \"M_oC\": 6000.0, \"M_tC\": 0.0,\n",
    "    \"N\": 1e6,\n",
    "    \"I_i\": 1.0, \"I_o\": 1.0, \"I_t\": 1.0,\n",
    "    \"i_a\": 1.0, \"i_l\": 1.0, \"i_o\": 1.0, \"i_t\": 1.0\n",
    "}\n",
    "\n",
    "# === Widgets de entrada ===\n",
    "EC_P    = widgets.FloatSlider(value=EC_defaults[\"P\"], min=0.1, max=10.0, step=0.1, description=\"P [MPa]\")\n",
    "EC_D_o  = widgets.FloatSlider(value=EC_defaults[\"D_o\"], min=50, max=600, step=1, description=\"D_o [mm]\")\n",
    "EC_t_n  = widgets.FloatSlider(value=EC_defaults[\"t_n\"], min=1, max=30, step=0.1, description=\"t_n [mm]\")\n",
    "EC_A_p  = widgets.FloatText(value=EC_defaults[\"A_p\"], description=\"A_p [m²]\")\n",
    "EC_Z    = widgets.FloatText(value=EC_defaults[\"Z\"], description=\"Z [m³]\")\n",
    "EC_Z_t  = widgets.FloatText(value=EC_defaults[\"Z_t\"], description=\"Z_t [m³]\")\n",
    "EC_S_h  = widgets.FloatText(value=EC_defaults[\"S_h\"], description=\"S_h [MPa]\")\n",
    "EC_S_c  = widgets.FloatText(value=EC_defaults[\"S_c\"], description=\"S_c [MPa]\")\n",
    "\n",
    "# Botón reset\n",
    "EC_reset_btn = widgets.Button(description=\"🔄 Resetear valores\", button_style=\"warning\")\n",
    "\n",
    "def EC_reset_values(b):\n",
    "    EC_P.value, EC_D_o.value, EC_t_n.value = EC_defaults[\"P\"], EC_defaults[\"D_o\"], EC_defaults[\"t_n\"]\n",
    "    EC_A_p.value, EC_Z.value, EC_Z_t.value = EC_defaults[\"A_p\"], EC_defaults[\"Z\"], EC_defaults[\"Z_t\"]\n",
    "    EC_S_h.value, EC_S_c.value = EC_defaults[\"S_h\"], EC_defaults[\"S_c\"]\n",
    "\n",
    "EC_reset_btn.on_click(EC_reset_values)\n",
    "\n",
    "# Mostrar controles\n",
    "display(EC_P, EC_D_o, EC_t_n, EC_A_p, EC_Z, EC_Z_t, EC_S_h, EC_S_c, EC_reset_btn)\n",
    "\n",
    "# === Función de cálculo ===\n",
    "def EC_calcular(P, D_o, t_n, A_p, Z, Z_t, S_h, S_c):\n",
    "    P_si = P * 1e6\n",
    "    D_o_si = D_o / 1000\n",
    "    t_si = t_n / 1000\n",
    "    S_lp = (P_si * D_o_si) / (4 * t_si)\n",
    "\n",
    "    # Ecuación 15: Sostenido\n",
    "    F_a = EC_defaults[\"F_a\"]\n",
    "    I_i = EC_defaults[\"I_i\"]\n",
    "    I_o = EC_defaults[\"I_o\"]\n",
    "    I_t = EC_defaults[\"I_t\"]\n",
    "    M_iA = EC_defaults[\"M_iA\"]\n",
    "    M_oA = EC_defaults[\"M_oA\"]\n",
    "    M_tA = EC_defaults[\"M_tA\"]\n",
    "\n",
    "    S_ax = (F_a / A_p) + S_lp\n",
    "    M_in_plane = (I_i * M_iA) / Z\n",
    "    M_out_of_plane = (I_o * M_oA) / Z\n",
    "    M_torsional = (I_t * M_tA) / Z_t\n",
    "    S_sost_Pa = sqrt(S_ax**2 + M_in_plane**2 + M_out_of_plane**2 + 3 * M_torsional**2)\n",
    "    S_sost = S_sost_Pa / 1e6\n",
    "    criterio_15 = \"✅ Cumplido\" if S_sost <= S_h else \"❌ NO Cumplido\"\n",
    "\n",
    "    # Ecuación 16: Ocasional\n",
    "    F_b = EC_defaults[\"F_b\"]\n",
    "    M_iB = EC_defaults[\"M_iB\"]\n",
    "    M_oB = EC_defaults[\"M_oB\"]\n",
    "    M_tB = EC_defaults[\"M_tB\"]\n",
    "\n",
    "    S_bx = (F_b / A_p) + S_lp\n",
    "    M_iB_Pa = (I_i * M_iB) / Z\n",
    "    M_oB_Pa = (I_o * M_oB) / Z\n",
    "    M_tB_Pa = (I_t * M_tB) / Z_t\n",
    "    S_oc_Pa = sqrt(S_bx**2 + M_iB_Pa**2 + M_oB_Pa**2 + 3 * M_tB_Pa**2)\n",
    "    S_oc = S_oc_Pa / 1e6\n",
    "    criterio_16 = \"✅ Cumplido\" if S_oc <= 1.15 * S_h else \"❌ NO Cumplido\"\n",
    "\n",
    "    # Ecuación 17: Desplazamiento\n",
    "    i_a = EC_defaults[\"i_a\"]\n",
    "    i_l = EC_defaults[\"i_l\"]\n",
    "    i_o_ = EC_defaults[\"i_o\"]\n",
    "    i_t_ = EC_defaults[\"i_t\"]\n",
    "    F_c = EC_defaults[\"F_c\"]\n",
    "    M_iC = EC_defaults[\"M_iC\"]\n",
    "    M_oC = EC_defaults[\"M_oC\"]\n",
    "    M_tC = EC_defaults[\"M_tC\"]\n",
    "    N = EC_defaults[\"N\"]\n",
    "\n",
    "    F_disp_Pa = (i_a * F_c) / A_p\n",
    "    M_l_disp = (i_l * M_iC) / Z\n",
    "    M_o_disp = (i_o_ * M_oC) / Z\n",
    "    M_t_disp = (i_t_ * M_tC) / Z_t\n",
    "    S_des_Pa = sqrt(F_disp_Pa**2 + M_l_disp**2 + M_o_disp**2 + 3 * M_t_disp**2)\n",
    "    S_des = S_des_Pa / 1e6\n",
    "\n",
    "    f = min(1.0, 6.0 / (N**0.2))\n",
    "    S_A = f * (1.25 * S_c + 0.25 * S_h)\n",
    "    criterio_17 = \"✅ Cumplido\" if S_des <= S_A else \"❌ NO Cumplido\"\n",
    "\n",
    "    html = f\"\"\"\n",
    "    <div style=\"border:2px solid #004080; border-radius:10px; padding:16px; background:#f9f9f9; font-family:Arial, sans-serif;\">\n",
    "        <h3 style=\"color:#004080; margin-top:0;\">📊 Resultados de Esfuerzos</h3>\n",
    "        <ul style=\"font-size:15px; line-height:1.6; margin:0 0 8px 18px;\">\n",
    "            <li>🟦 <b>Sostenido (Eq. 15):</b> {S_sost:.2f} MPa → {criterio_15}</li>\n",
    "            <li>🟨 <b>Ocasional (Eq. 16):</b> {S_oc:.2f} MPa → {criterio_16}</li>\n",
    "            <li>🟥 <b>Desplazamiento (Eq. 17):</b> {S_des:.2f} MPa → {criterio_17}</li>\n",
    "        </ul>\n",
    "    </div>\n",
    "    \"\"\"\n",
    "    display(HTML(html))\n",
    "\n",
    "# === Conectar widgets ===\n",
    "EC_out = widgets.interactive_output(\n",
    "    EC_calcular,\n",
    "    {\n",
    "        \"P\": EC_P, \"D_o\": EC_D_o, \"t_n\": EC_t_n, \"A_p\": EC_A_p,\n",
    "        \"Z\": EC_Z, \"Z_t\": EC_Z_t, \"S_h\": EC_S_h, \"S_c\": EC_S_c\n",
    "    }\n",
    ")\n",
    "display(EC_out)"
   ]
  },
  {
   "cell_type": "markdown",
   "id": "73d7c302",
   "metadata": {},
   "source": [
    "### CÁLCULO DE SOPORTES (SPAN)"
   ]
  },
  {
   "cell_type": "code",
   "execution_count": 37,
   "id": "5e7c91a5",
   "metadata": {},
   "outputs": [
    {
     "data": {
      "application/vnd.jupyter.widget-view+json": {
       "model_id": "3f4e0ee4ddfc43d6852f2f8566f1cfb4",
       "version_major": 2,
       "version_minor": 0
      },
      "text/plain": [
       "FloatSlider(value=219.1, description='D_o [mm]', max=600.0, min=50.0, step=1.0)"
      ]
     },
     "metadata": {},
     "output_type": "display_data"
    },
    {
     "data": {
      "application/vnd.jupyter.widget-view+json": {
       "model_id": "a864094678b849d79935b3b3a1f9cff8",
       "version_major": 2,
       "version_minor": 0
      },
      "text/plain": [
       "FloatSlider(value=8.18, description='t_n [mm]', max=30.0, min=1.0)"
      ]
     },
     "metadata": {},
     "output_type": "display_data"
    },
    {
     "data": {
      "application/vnd.jupyter.widget-view+json": {
       "model_id": "b7df9e736def47138aacd1f4403909be",
       "version_major": 2,
       "version_minor": 0
      },
      "text/plain": [
       "FloatText(value=7850.0, description='ρ acero [kg/m³]')"
      ]
     },
     "metadata": {},
     "output_type": "display_data"
    },
    {
     "data": {
      "application/vnd.jupyter.widget-view+json": {
       "model_id": "4f696c59cdd5418290fc20ac73b40195",
       "version_major": 2,
       "version_minor": 0
      },
      "text/plain": [
       "FloatText(value=1000.0, description='ρ fluido [kg/m³]')"
      ]
     },
     "metadata": {},
     "output_type": "display_data"
    },
    {
     "data": {
      "application/vnd.jupyter.widget-view+json": {
       "model_id": "220180cd23b94d028b13d40aa7715e4d",
       "version_major": 2,
       "version_minor": 0
      },
      "text/plain": [
       "FloatText(value=9.81, description='g [m/s²]')"
      ]
     },
     "metadata": {},
     "output_type": "display_data"
    },
    {
     "data": {
      "application/vnd.jupyter.widget-view+json": {
       "model_id": "aeb4901cdcb64368b42c7398b91a648a",
       "version_major": 2,
       "version_minor": 0
      },
      "text/plain": [
       "FloatSlider(value=200.0, description='E [GPa]', max=220.0, min=100.0, step=1.0)"
      ]
     },
     "metadata": {},
     "output_type": "display_data"
    },
    {
     "data": {
      "application/vnd.jupyter.widget-view+json": {
       "model_id": "2546d93c0783411c8c301fbb1bebdc91",
       "version_major": 2,
       "version_minor": 0
      },
      "text/plain": [
       "FloatSlider(value=120.0, description='S_h [MPa]', max=300.0, min=50.0, step=1.0)"
      ]
     },
     "metadata": {},
     "output_type": "display_data"
    },
    {
     "data": {
      "application/vnd.jupyter.widget-view+json": {
       "model_id": "16ec82bbbbf9447b9377b961d73bdb28",
       "version_major": 2,
       "version_minor": 0
      },
      "text/plain": [
       "FloatSlider(value=10.0, description='δ_adm [mm]', max=50.0, min=1.0, step=1.0)"
      ]
     },
     "metadata": {},
     "output_type": "display_data"
    },
    {
     "data": {
      "application/vnd.jupyter.widget-view+json": {
       "model_id": "6c7ecce3139d4375b0aaced7d5921140",
       "version_major": 2,
       "version_minor": 0
      },
      "text/plain": [
       "FloatText(value=0.0, description='Peso aislamiento [N/m]')"
      ]
     },
     "metadata": {},
     "output_type": "display_data"
    },
    {
     "data": {
      "application/vnd.jupyter.widget-view+json": {
       "model_id": "f7db4867a0db4a50a97710becfbe94e7",
       "version_major": 2,
       "version_minor": 0
      },
      "text/plain": [
       "Button(button_style='warning', description='🔄 Resetear valores', style=ButtonStyle())"
      ]
     },
     "metadata": {},
     "output_type": "display_data"
    },
    {
     "data": {
      "application/vnd.jupyter.widget-view+json": {
       "model_id": "c21b5108c7ad46878b4fa3b002fc3d4b",
       "version_major": 2,
       "version_minor": 0
      },
      "text/plain": [
       "Output()"
      ]
     },
     "metadata": {},
     "output_type": "display_data"
    }
   ],
   "source": [
    "# %% [markdown]\n",
    "# # 🧮 Cálculo de Span Máximo entre Soportes en Tuberías\n",
    "# Según ASME B31.3 – Criterios de esfuerzo y deformación\n",
    "\n",
    "# === Valores por defecto ===\n",
    "SP_defaults = {\n",
    "    \"D_o\": 219.1,       # mm\n",
    "    \"t_n\": 8.18,        # mm\n",
    "    \"rho_steel\": 7850,  # kg/m³\n",
    "    \"rho_fluid\": 1000,  # kg/m³\n",
    "    \"g\": 9.81,          # m/s²\n",
    "    \"E_GPa\": 200.0,     # GPa\n",
    "    \"S_h_MPa\": 120.0,   # MPa\n",
    "    \"delta_adm\": 10.0,  # mm\n",
    "    \"w_insul\": 0.0      # N/m\n",
    "}\n",
    "\n",
    "# === Widgets de entrada (prefijo SP_) ===\n",
    "SP_D_o        = widgets.FloatSlider(value=SP_defaults[\"D_o\"], min=50, max=600, step=1, description=\"D_o [mm]\")\n",
    "SP_t_n        = widgets.FloatSlider(value=SP_defaults[\"t_n\"], min=1, max=30, step=0.1, description=\"t_n [mm]\")\n",
    "SP_rho_steel  = widgets.FloatText(value=SP_defaults[\"rho_steel\"], description=\"ρ acero [kg/m³]\")\n",
    "SP_rho_fluid  = widgets.FloatText(value=SP_defaults[\"rho_fluid\"], description=\"ρ fluido [kg/m³]\")\n",
    "SP_g          = widgets.FloatText(value=SP_defaults[\"g\"], description=\"g [m/s²]\")\n",
    "SP_E_GPa      = widgets.FloatSlider(value=SP_defaults[\"E_GPa\"], min=100, max=220, step=1, description=\"E [GPa]\")\n",
    "SP_S_h_MPa    = widgets.FloatSlider(value=SP_defaults[\"S_h_MPa\"], min=50, max=300, step=1, description=\"S_h [MPa]\")\n",
    "SP_delta_adm  = widgets.FloatSlider(value=SP_defaults[\"delta_adm\"], min=1, max=50, step=1, description=\"δ_adm [mm]\")\n",
    "SP_w_insul    = widgets.FloatText(value=SP_defaults[\"w_insul\"], description=\"Peso aislamiento [N/m]\")\n",
    "\n",
    "# Botón reset\n",
    "SP_reset_btn = widgets.Button(description=\"🔄 Resetear valores\", button_style=\"warning\")\n",
    "\n",
    "def SP_reset_values(b):\n",
    "    SP_D_o.value       = SP_defaults[\"D_o\"]\n",
    "    SP_t_n.value       = SP_defaults[\"t_n\"]\n",
    "    SP_rho_steel.value = SP_defaults[\"rho_steel\"]\n",
    "    SP_rho_fluid.value = SP_defaults[\"rho_fluid\"]\n",
    "    SP_g.value         = SP_defaults[\"g\"]\n",
    "    SP_E_GPa.value     = SP_defaults[\"E_GPa\"]\n",
    "    SP_S_h_MPa.value   = SP_defaults[\"S_h_MPa\"]\n",
    "    SP_delta_adm.value = SP_defaults[\"delta_adm\"]\n",
    "    SP_w_insul.value   = SP_defaults[\"w_insul\"]\n",
    "\n",
    "SP_reset_btn.on_click(SP_reset_values)\n",
    "\n",
    "# Mostrar controles\n",
    "display(SP_D_o, SP_t_n, SP_rho_steel, SP_rho_fluid, SP_g, SP_E_GPa, SP_S_h_MPa, SP_delta_adm, SP_w_insul, SP_reset_btn)\n",
    "\n",
    "# === Función de cálculo ===\n",
    "def SP_calcular(D_o, t_n, rho_steel, rho_fluid, g, E_GPa, S_h_MPa, delta_adm, w_insul):\n",
    "    # Conversión a SI\n",
    "    D_o_m = D_o / 1000\n",
    "    D_i_m = (D_o - 2*t_n) / 1000\n",
    "    E     = E_GPa * 1e9\n",
    "    S_h   = S_h_MPa * 1e6\n",
    "\n",
    "    # Áreas y pesos lineales\n",
    "    A_pared = (pi/4) * (D_o_m**2 - D_i_m**2)\n",
    "    A_fluid = (pi/4) * D_i_m**2\n",
    "    W_pared = A_pared * rho_steel * g\n",
    "    W_fluid = A_fluid * rho_fluid * g\n",
    "    W_total = W_pared + W_fluid + w_insul\n",
    "\n",
    "    # Propiedades geométricas\n",
    "    I = (pi/64) * (D_o_m**4 - D_i_m**4)\n",
    "    Z = I / (D_o_m/2)\n",
    "\n",
    "    # Spans\n",
    "    L_sft_m     = sqrt((8 * Z * S_h) / W_total)\n",
    "    L_flecha_m  = ((384 * E * I * (delta_adm/1000)) / (5 * W_total))**0.25\n",
    "    L_span_m    = min(L_sft_m, L_flecha_m)\n",
    "\n",
    "    # Conversión a mm\n",
    "    L_sft    = L_sft_m * 1000\n",
    "    L_flecha = L_flecha_m * 1000\n",
    "    L_span   = L_span_m * 1000\n",
    "\n",
    "    # Resultados en HTML\n",
    "    html = f\"\"\"\n",
    "    <div style=\"border:2px solid #006400; border-radius:10px; padding:15px; background:#f9f9f9; font-family:Arial;\">\n",
    "        <h3 style=\"color:#006400;\">📊 Resultados del cálculo de soporte</h3>\n",
    "        <ul style=\"font-size:15px; line-height:1.6;\">\n",
    "            <li>📏 <b>Span por esfuerzo admisible:</b> {L_sft:.1f} mm</li>\n",
    "            <li>📐 <b>Span por flecha admisible:</b> {L_flecha:.1f} mm</li>\n",
    "            <li>✅ <b>Span adoptado:</b> {L_span:.1f} mm</li>\n",
    "        </ul>\n",
    "    </div>\n",
    "    \"\"\"\n",
    "    display(HTML(html))\n",
    "\n",
    "# === Conectar widgets ===\n",
    "SP_out = widgets.interactive_output(\n",
    "    SP_calcular, {\n",
    "        \"D_o\": SP_D_o, \"t_n\": SP_t_n, \"rho_steel\": SP_rho_steel, \"rho_fluid\": SP_rho_fluid,\n",
    "        \"g\": SP_g, \"E_GPa\": SP_E_GPa, \"S_h_MPa\": SP_S_h_MPa, \"delta_adm\": SP_delta_adm, \"w_insul\": SP_w_insul\n",
    "    }\n",
    ")\n",
    "display(SP_out)"
   ]
  },
  {
   "cell_type": "code",
   "execution_count": null,
   "id": "983b3359",
   "metadata": {},
   "outputs": [],
   "source": []
  }
 ],
 "metadata": {
  "kernelspec": {
   "display_name": "venv (3.13.5)",
   "language": "python",
   "name": "python3"
  },
  "language_info": {
   "codemirror_mode": {
    "name": "ipython",
    "version": 3
   },
   "file_extension": ".py",
   "mimetype": "text/x-python",
   "name": "python",
   "nbconvert_exporter": "python",
   "pygments_lexer": "ipython3",
   "version": "3.13.5"
  }
 },
 "nbformat": 4,
 "nbformat_minor": 5
}

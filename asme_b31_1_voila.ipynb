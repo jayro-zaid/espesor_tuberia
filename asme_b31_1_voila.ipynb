{
 "cells": [
  {
   "cell_type": "markdown",
   "id": "9d221cbf",
   "metadata": {},
   "source": [
    "# Análisis Comparativo de Diseño de Tuberías según Códigos ASME B31.X"
   ]
  },
  {
   "cell_type": "markdown",
   "id": "0d0a6af2",
   "metadata": {},
   "source": [
    "## ASME B31.1:2022"
   ]
  },
  {
   "cell_type": "code",
   "execution_count": 18,
   "id": "d4dbe249",
   "metadata": {},
   "outputs": [],
   "source": [
    "from math import sqrt\n",
    "from math import pi, sqrt\n",
    "import ipywidgets as widgets\n",
    "from IPython.display import display, Markdown"
   ]
  },
  {
   "cell_type": "markdown",
   "id": "2944798a",
   "metadata": {},
   "source": [
    "### CÁLCULO DEL ESPESOR REQUERIDO"
   ]
  },
  {
   "cell_type": "code",
   "execution_count": 19,
   "id": "b86455a9",
   "metadata": {},
   "outputs": [
    {
     "data": {
      "application/vnd.jupyter.widget-view+json": {
       "model_id": "5f4e85663eab497dbf42438ec72c98e4",
       "version_major": 2,
       "version_minor": 0
      },
      "text/plain": [
       "FloatSlider(value=2.0, description='P [MPa]', max=10.0, min=0.1)"
      ]
     },
     "metadata": {},
     "output_type": "display_data"
    },
    {
     "data": {
      "application/vnd.jupyter.widget-view+json": {
       "model_id": "25cdafd7969749078699aad3d6eb163d",
       "version_major": 2,
       "version_minor": 0
      },
      "text/plain": [
       "FloatSlider(value=219.1, description='D_o [mm]', max=600.0, min=50.0, step=1.0)"
      ]
     },
     "metadata": {},
     "output_type": "display_data"
    },
    {
     "data": {
      "application/vnd.jupyter.widget-view+json": {
       "model_id": "20c7fae6474a41e89d826168e2c726db",
       "version_major": 2,
       "version_minor": 0
      },
      "text/plain": [
       "FloatSlider(value=120.0, description='S [MPa]', max=300.0, min=10.0, step=1.0)"
      ]
     },
     "metadata": {},
     "output_type": "display_data"
    },
    {
     "data": {
      "application/vnd.jupyter.widget-view+json": {
       "model_id": "26bfa6d3f81c4b728d1531a1e20bfd56",
       "version_major": 2,
       "version_minor": 0
      },
      "text/plain": [
       "FloatSlider(value=1.0, description='E', max=1.0, min=0.6, step=0.05)"
      ]
     },
     "metadata": {},
     "output_type": "display_data"
    },
    {
     "data": {
      "application/vnd.jupyter.widget-view+json": {
       "model_id": "d002df04f3dc429692cb17fe9fc94db9",
       "version_major": 2,
       "version_minor": 0
      },
      "text/plain": [
       "FloatSlider(value=1.0, description='W', max=1.0, min=0.5, step=0.05)"
      ]
     },
     "metadata": {},
     "output_type": "display_data"
    },
    {
     "data": {
      "application/vnd.jupyter.widget-view+json": {
       "model_id": "3f0695f29ee44ce9bf3f15353c1930c8",
       "version_major": 2,
       "version_minor": 0
      },
      "text/plain": [
       "FloatSlider(value=0.4, description='Y', max=0.8, step=0.05)"
      ]
     },
     "metadata": {},
     "output_type": "display_data"
    },
    {
     "data": {
      "application/vnd.jupyter.widget-view+json": {
       "model_id": "79d943cfed5a49fc8a61abc1e13a932f",
       "version_major": 2,
       "version_minor": 0
      },
      "text/plain": [
       "FloatText(value=1.5, description='A [mm]')"
      ]
     },
     "metadata": {},
     "output_type": "display_data"
    },
    {
     "data": {
      "application/vnd.jupyter.widget-view+json": {
       "model_id": "5f54c572648f4dab81051654fd84a2ee",
       "version_major": 2,
       "version_minor": 0
      },
      "text/plain": [
       "FloatText(value=8.18, description='t_n [mm]')"
      ]
     },
     "metadata": {},
     "output_type": "display_data"
    },
    {
     "data": {
      "application/vnd.jupyter.widget-view+json": {
       "model_id": "de17591585d549b5a761b098db4be1bb",
       "version_major": 2,
       "version_minor": 0
      },
      "text/plain": [
       "FloatSlider(value=0.125, description='Tol', max=0.3, step=0.01)"
      ]
     },
     "metadata": {},
     "output_type": "display_data"
    },
    {
     "data": {
      "application/vnd.jupyter.widget-view+json": {
       "model_id": "2820b915470c424493265ffe7721aea7",
       "version_major": 2,
       "version_minor": 0
      },
      "text/plain": [
       "Button(button_style='warning', description='🔄 Resetear valores', style=ButtonStyle())"
      ]
     },
     "metadata": {},
     "output_type": "display_data"
    },
    {
     "data": {
      "application/vnd.jupyter.widget-view+json": {
       "model_id": "b05e386efe2244f9ac0a8389043d69b0",
       "version_major": 2,
       "version_minor": 0
      },
      "text/plain": [
       "Output()"
      ]
     },
     "metadata": {},
     "output_type": "display_data"
    }
   ],
   "source": [
    "import ipywidgets as widgets\n",
    "from IPython.display import display, HTML\n",
    "\n",
    "# === Valores por defecto ===\n",
    "defaults = {\n",
    "    \"P\": 2.0,\n",
    "    \"D_o\": 219.1,\n",
    "    \"S\": 120.0,\n",
    "    \"E\": 1.0,\n",
    "    \"W\": 1.0,\n",
    "    \"Y\": 0.4,\n",
    "    \"A\": 1.5,\n",
    "    \"t_n\": 8.18,\n",
    "    \"tol\": 0.125\n",
    "}\n",
    "\n",
    "# === Widgets de entrada ===\n",
    "P    = widgets.FloatSlider(value=defaults[\"P\"], min=0.1, max=10.0, step=0.1, description='P [MPa]')\n",
    "D_o  = widgets.FloatSlider(value=defaults[\"D_o\"], min=50, max=600, step=1, description='D_o [mm]')\n",
    "S    = widgets.FloatSlider(value=defaults[\"S\"], min=10, max=300, step=1, description='S [MPa]')\n",
    "E    = widgets.FloatSlider(value=defaults[\"E\"], min=0.6, max=1.0, step=0.05, description='E')\n",
    "W    = widgets.FloatSlider(value=defaults[\"W\"], min=0.5, max=1.0, step=0.05, description='W')\n",
    "Y    = widgets.FloatSlider(value=defaults[\"Y\"], min=0.0, max=0.8, step=0.05, description='Y')\n",
    "A    = widgets.FloatText(value=defaults[\"A\"], description='A [mm]')\n",
    "t_n  = widgets.FloatText(value=defaults[\"t_n\"], description='t_n [mm]')\n",
    "tol  = widgets.FloatSlider(value=defaults[\"tol\"], min=0.0, max=0.3, step=0.01, description='Tol')\n",
    "\n",
    "# Botón reset\n",
    "reset_btn = widgets.Button(description=\"🔄 Resetear valores\", button_style=\"warning\")\n",
    "\n",
    "# === Función de reset ===\n",
    "def reset_values(b):\n",
    "    P.value    = defaults[\"P\"]\n",
    "    D_o.value  = defaults[\"D_o\"]\n",
    "    S.value    = defaults[\"S\"]\n",
    "    E.value    = defaults[\"E\"]\n",
    "    W.value    = defaults[\"W\"]\n",
    "    Y.value    = defaults[\"Y\"]\n",
    "    A.value    = defaults[\"A\"]\n",
    "    t_n.value  = defaults[\"t_n\"]\n",
    "    tol.value  = defaults[\"tol\"]\n",
    "\n",
    "reset_btn.on_click(reset_values)\n",
    "\n",
    "# Mostrar controles + botón\n",
    "display(P, D_o, S, E, W, Y, A, t_n, tol, reset_btn)\n",
    "\n",
    "# === Función de cálculo ===\n",
    "def calcular(P, D_o, S, E, W, Y, A, t_n, tol):\n",
    "    P_si    = P * 1e6\n",
    "    D_o_si  = D_o / 1000\n",
    "    S_si    = S * 1e6\n",
    "    A_si    = A / 1000\n",
    "    t_n_si  = t_n / 1000\n",
    "\n",
    "    numerador   = P_si * D_o_si\n",
    "    denominador = 2 * (S_si * E * W + P_si * Y)\n",
    "    t_min_si    = (numerador / denominador) + A_si  # [m]\n",
    "\n",
    "    t_disp_si = t_n_si * (1 - tol)                  # [m]\n",
    "\n",
    "    t_min  = t_min_si * 1000\n",
    "    t_disp = t_disp_si * 1000\n",
    "    criterio = \"✅ Cumplido\" if t_disp_si >= t_min_si else \"❌ NO Cumplido\"\n",
    "\n",
    "    html = f\"\"\"\n",
    "    <div style=\"border:2px solid #004080; border-radius:10px; padding:15px; background:#f9f9f9; font-family:Arial;\">\n",
    "        <h3 style=\"color:#004080;\">📊 Resultados del Cálculo</h3>\n",
    "        <ul style=\"font-size:15px; line-height:1.6;\">\n",
    "            <li>📏 <b>Espesor mínimo requerido:</b> {t_min:.2f} mm</li>\n",
    "            <li>📐 <b>Espesor disponible:</b> {t_disp:.2f} mm</li>\n",
    "        </ul>\n",
    "        <p style=\"font-size:16px;\"><b>Criterio de aceptación:</b> {criterio}</p>\n",
    "    </div>\n",
    "    \"\"\"\n",
    "    display(HTML(html))\n",
    "\n",
    "# === Conectar widgets ===\n",
    "out = widgets.interactive_output(\n",
    "    calcular, {\"P\": P, \"D_o\": D_o, \"S\": S, \"E\": E, \"W\": W, \"Y\": Y, \"A\": A, \"t_n\": t_n, \"tol\": tol}\n",
    ")\n",
    "display(out)"
   ]
  },
  {
   "cell_type": "markdown",
   "id": "bf9ef11e",
   "metadata": {},
   "source": [
    "### CÁLCULO DE ESFUERZOS"
   ]
  },
  {
   "cell_type": "code",
   "execution_count": 20,
   "id": "925e7f78",
   "metadata": {},
   "outputs": [
    {
     "data": {
      "application/vnd.jupyter.widget-view+json": {
       "model_id": "d772ee3f19f244bf801cf1ddfaee95b7",
       "version_major": 2,
       "version_minor": 0
      },
      "text/plain": [
       "FloatSlider(value=2.0, description='P [MPa]', max=10.0, min=0.1)"
      ]
     },
     "metadata": {},
     "output_type": "display_data"
    },
    {
     "data": {
      "application/vnd.jupyter.widget-view+json": {
       "model_id": "f62e4e8d6fc048c6a2da191fec7dbd30",
       "version_major": 2,
       "version_minor": 0
      },
      "text/plain": [
       "FloatSlider(value=219.1, description='D_o [mm]', max=600.0, min=50.0, step=1.0)"
      ]
     },
     "metadata": {},
     "output_type": "display_data"
    },
    {
     "data": {
      "application/vnd.jupyter.widget-view+json": {
       "model_id": "c2d5fe4227c642339436f88bdeec2a91",
       "version_major": 2,
       "version_minor": 0
      },
      "text/plain": [
       "FloatSlider(value=8.18, description='t_n [mm]', max=30.0, min=1.0)"
      ]
     },
     "metadata": {},
     "output_type": "display_data"
    },
    {
     "data": {
      "application/vnd.jupyter.widget-view+json": {
       "model_id": "21c90beea72f4e18acb352e2192c2bb5",
       "version_major": 2,
       "version_minor": 0
      },
      "text/plain": [
       "FloatText(value=0.005, description='A_p [m²]')"
      ]
     },
     "metadata": {},
     "output_type": "display_data"
    },
    {
     "data": {
      "application/vnd.jupyter.widget-view+json": {
       "model_id": "57350b4b3d8a40ffa1c0aed79028e7da",
       "version_major": 2,
       "version_minor": 0
      },
      "text/plain": [
       "FloatText(value=0.0002756, description='Z [m³]')"
      ]
     },
     "metadata": {},
     "output_type": "display_data"
    },
    {
     "data": {
      "application/vnd.jupyter.widget-view+json": {
       "model_id": "6e117360ccd94197906d2e756fa17ea0",
       "version_major": 2,
       "version_minor": 0
      },
      "text/plain": [
       "FloatText(value=0.0005511, description='Z_t [m³]')"
      ]
     },
     "metadata": {},
     "output_type": "display_data"
    },
    {
     "data": {
      "application/vnd.jupyter.widget-view+json": {
       "model_id": "de2ea99f49f64567887cea6c9e9b848c",
       "version_major": 2,
       "version_minor": 0
      },
      "text/plain": [
       "FloatText(value=120.0, description='S_h [MPa]')"
      ]
     },
     "metadata": {},
     "output_type": "display_data"
    },
    {
     "data": {
      "application/vnd.jupyter.widget-view+json": {
       "model_id": "d35979c4ba7143beb90e8d952baa71eb",
       "version_major": 2,
       "version_minor": 0
      },
      "text/plain": [
       "FloatText(value=138.0, description='S_c [MPa]')"
      ]
     },
     "metadata": {},
     "output_type": "display_data"
    },
    {
     "data": {
      "application/vnd.jupyter.widget-view+json": {
       "model_id": "8a5319725d634c3f8b9c9fa70b24d2a5",
       "version_major": 2,
       "version_minor": 0
      },
      "text/plain": [
       "Button(button_style='warning', description='🔄 Resetear valores', style=ButtonStyle())"
      ]
     },
     "metadata": {},
     "output_type": "display_data"
    },
    {
     "data": {
      "application/vnd.jupyter.widget-view+json": {
       "model_id": "5598b659fd834ddc80b86ea76a39ac24",
       "version_major": 2,
       "version_minor": 0
      },
      "text/plain": [
       "Output()"
      ]
     },
     "metadata": {},
     "output_type": "display_data"
    }
   ],
   "source": [
    "# %% [markdown]\n",
    "# # ⚙️ Cálculo de Esfuerzos Combinados en Tuberías\n",
    "# Basado en ASME B31.3 – Ecuaciones 15, 16 y 17\n",
    "\n",
    "# %%\n",
    "import ipywidgets as widgets\n",
    "from IPython.display import display, HTML\n",
    "from math import sqrt\n",
    "\n",
    "# === Valores por defecto ===\n",
    "defaults = {\n",
    "    \"P\": 2.0,      # MPa\n",
    "    \"D_o\": 219.1,  # mm\n",
    "    \"t_n\": 8.18,   # mm\n",
    "    \"A_p\": 0.005,  # m²\n",
    "    \"Z\": 0.0002756,\n",
    "    \"Z_t\": 0.0005511,\n",
    "    \"S_h\": 120.0,  # MPa\n",
    "    \"S_c\": 138.0,  # MPa\n",
    "    # Cargas sostenidas\n",
    "    \"F_a\": 0.0, \"M_iA\": 3000.0, \"M_oA\": 1500.0, \"M_tA\": 0.0,\n",
    "    # Cargas ocasionales\n",
    "    \"F_b\": 0.0, \"M_iB\": 8000.0, \"M_oB\": 3500.0, \"M_tB\": 0.0,\n",
    "    # Cargas de desplazamiento\n",
    "    \"F_c\": 0.0, \"M_iC\": 12000.0, \"M_oC\": 6000.0, \"M_tC\": 0.0,\n",
    "    \"N\": 1e6,\n",
    "    # Índices de esfuerzo\n",
    "    \"I_i\": 1.0, \"I_o\": 1.0, \"I_t\": 1.0,\n",
    "    \"i_a\": 1.0, \"i_l\": 1.0, \"i_o\": 1.0, \"i_t\": 1.0\n",
    "}\n",
    "\n",
    "# === Widgets de entrada ===\n",
    "P     = widgets.FloatSlider(value=defaults[\"P\"], min=0.1, max=10.0, step=0.1, description=\"P [MPa]\")\n",
    "D_o   = widgets.FloatSlider(value=defaults[\"D_o\"], min=50, max=600, step=1, description=\"D_o [mm]\")\n",
    "t_n   = widgets.FloatSlider(value=defaults[\"t_n\"], min=1, max=30, step=0.1, description=\"t_n [mm]\")\n",
    "A_p   = widgets.FloatText(value=defaults[\"A_p\"], description=\"A_p [m²]\")\n",
    "Z     = widgets.FloatText(value=defaults[\"Z\"], description=\"Z [m³]\")\n",
    "Z_t   = widgets.FloatText(value=defaults[\"Z_t\"], description=\"Z_t [m³]\")\n",
    "S_h   = widgets.FloatText(value=defaults[\"S_h\"], description=\"S_h [MPa]\")\n",
    "S_c   = widgets.FloatText(value=defaults[\"S_c\"], description=\"S_c [MPa]\")\n",
    "\n",
    "# Botón reset\n",
    "reset_btn = widgets.Button(description=\"🔄 Resetear valores\", button_style=\"warning\")\n",
    "\n",
    "def reset_values(b):\n",
    "    P.value, D_o.value, t_n.value = defaults[\"P\"], defaults[\"D_o\"], defaults[\"t_n\"]\n",
    "    A_p.value, Z.value, Z_t.value = defaults[\"A_p\"], defaults[\"Z\"], defaults[\"Z_t\"]\n",
    "    S_h.value, S_c.value = defaults[\"S_h\"], defaults[\"S_c\"]\n",
    "reset_btn.on_click(reset_values)\n",
    "\n",
    "# Mostrar controles\n",
    "display(P, D_o, t_n, A_p, Z, Z_t, S_h, S_c, reset_btn)\n",
    "\n",
    "# === Función de cálculo ===\n",
    "def calcular(P, D_o, t_n, A_p, Z, Z_t, S_h, S_c):\n",
    "    # Conversión a SI\n",
    "    P_si   = P * 1e6\n",
    "    D_o_si = D_o / 1000\n",
    "    t_si   = t_n / 1000\n",
    "    S_h_si = S_h * 1e6\n",
    "    S_c_si = S_c * 1e6\n",
    "\n",
    "    # Esfuerzo longitudinal por presión interna\n",
    "    S_lp = (P_si * D_o_si) / (4 * t_si)\n",
    "\n",
    "    # === Ecuación 15: Sostenido ===\n",
    "    S_ax = (defaults[\"F_a\"] / A_p) + S_lp\n",
    "    M_in_plane     = (defaults[\"I_i\"] * defaults[\"M_iA\"]) / Z\n",
    "    M_out_of_plane = (defaults[\"I_o\"] * defaults[\"M_oA\"]) / Z\n",
    "    M_torsional    = (defaults[\"I_t\"] * defaults[\"M_tA\"]) / Z_t\n",
    "    S_sost_Pa = sqrt(S_ax**2 + M_in_plane**2 + M_out_of_plane**2 + 3*M_torsional**2)\n",
    "    S_sost = S_sost_Pa / 1e6\n",
    "    criterio_15 = \"✅ Cumplido\" if S_sost <= S_h else \"❌ NO Cumplido\"\n",
    "\n",
    "    # === Ecuación 16: Ocasional ===\n",
    "    S_bx   = (defaults[\"F_b\"] / A_p) + S_lp\n",
    "    M_iB_Pa = (defaults[\"I_i\"] * defaults[\"M_iB\"]) / Z\n",
    "    M_oB_Pa = (defaults[\"I_o\"] * defaults[\"M_oB\"]) / Z\n",
    "    M_tB_Pa = (defaults[\"I_t\"] * defaults[\"M_tB\"]) / Z_t\n",
    "    S_oc_Pa = sqrt(S_bx**2 + M_iB_Pa**2 + M_oB_Pa**2 + 3*M_tB_Pa**2)\n",
    "    S_oc = S_oc_Pa / 1e6\n",
    "    criterio_16 = \"✅ Cumplido\" if S_oc <= 1.15 * S_h else \"❌ NO Cumplido\"\n",
    "\n",
    "    # === Ecuación 17: Desplazamiento ===\n",
    "    F_disp_Pa = (defaults[\"i_a\"] * defaults[\"F_c\"]) / A_p\n",
    "    M_l_disp  = (defaults[\"i_l\"] * defaults[\"M_iC\"]) / Z\n",
    "    M_o_disp  = (defaults[\"i_o\"] * defaults[\"M_oC\"]) / Z\n",
    "    M_t_disp  = (defaults[\"i_t\"] * defaults[\"M_tC\"]) / Z_t\n",
    "    S_des_Pa = sqrt(F_disp_Pa**2 + M_l_disp**2 + M_o_disp**2 + 3*M_t_disp**2)\n",
    "    S_des = S_des_Pa / 1e6\n",
    "    f = min(1.0, 6.0 / defaults[\"N\"]**0.2)\n",
    "    S_A = f * (1.25 * S_c + 0.25 * S_h)\n",
    "    criterio_17 = \"✅ Cumplido\" if S_des <= S_A else \"❌ NO Cumplido\"\n",
    "\n",
    "    # === Mostrar resultados en HTML ===\n",
    "    html = f\"\"\"\n",
    "    <div style=\"border:2px solid #004080; border-radius:10px; padding:15px; background:#f9f9f9; font-family:Arial;\">\n",
    "        <h3 style=\"color:#004080;\">📊 Resultados de Esfuerzos</h3>\n",
    "        <ul style=\"font-size:15px; line-height:1.6;\">\n",
    "            <li>🟦 <b>Sostenido (Eq. 15):</b> {S_sost:.2f} MPa → {criterio_15}</li>\n",
    "            <li>🟨 <b>Ocasional (Eq. 16):</b> {S_oc:.2f} MPa → {criterio_16}</li>\n",
    "            <li>🟥 <b>Desplazamiento (Eq. 17):</b> {S_des:.2f} MPa → {criterio_17}</li>\n",
    "        </ul>\n",
    "    </div>\n",
    "    \"\"\"\n",
    "    display(HTML(html))\n",
    "\n",
    "# === Conectar widgets ===\n",
    "out = widgets.interactive_output(\n",
    "    calcular, {\"P\": P, \"D_o\": D_o, \"t_n\": t_n, \"A_p\": A_p, \"Z\": Z, \"Z_t\": Z_t, \"S_h\": S_h, \"S_c\": S_c}\n",
    ")\n",
    "display(out)"
   ]
  },
  {
   "cell_type": "code",
   "execution_count": 21,
   "id": "5e7c91a5",
   "metadata": {},
   "outputs": [
    {
     "data": {
      "application/vnd.jupyter.widget-view+json": {
       "model_id": "d3762742e6514a7eae7b8b9b8d19c71d",
       "version_major": 2,
       "version_minor": 0
      },
      "text/plain": [
       "FloatSlider(value=219.1, description='D_o [mm]', max=600.0, min=50.0, step=1.0)"
      ]
     },
     "metadata": {},
     "output_type": "display_data"
    },
    {
     "data": {
      "application/vnd.jupyter.widget-view+json": {
       "model_id": "64fa3c92f9a842179ee2f72599e9707a",
       "version_major": 2,
       "version_minor": 0
      },
      "text/plain": [
       "FloatSlider(value=8.18, description='t_n [mm]', max=30.0, min=1.0)"
      ]
     },
     "metadata": {},
     "output_type": "display_data"
    },
    {
     "data": {
      "application/vnd.jupyter.widget-view+json": {
       "model_id": "be40ff0dc9c24979af4754a3a39d3676",
       "version_major": 2,
       "version_minor": 0
      },
      "text/plain": [
       "FloatText(value=7850.0, description='ρ acero [kg/m³]')"
      ]
     },
     "metadata": {},
     "output_type": "display_data"
    },
    {
     "data": {
      "application/vnd.jupyter.widget-view+json": {
       "model_id": "3343afd9c6a04e4f89d01a00dda3bef4",
       "version_major": 2,
       "version_minor": 0
      },
      "text/plain": [
       "FloatText(value=1000.0, description='ρ fluido [kg/m³]')"
      ]
     },
     "metadata": {},
     "output_type": "display_data"
    },
    {
     "data": {
      "application/vnd.jupyter.widget-view+json": {
       "model_id": "89b1284787c24cfe971749a7dc2350f2",
       "version_major": 2,
       "version_minor": 0
      },
      "text/plain": [
       "FloatText(value=9.81, description='g [m/s²]')"
      ]
     },
     "metadata": {},
     "output_type": "display_data"
    },
    {
     "data": {
      "application/vnd.jupyter.widget-view+json": {
       "model_id": "5bdd7ec599904fba8bb6bcf8a3e90cc9",
       "version_major": 2,
       "version_minor": 0
      },
      "text/plain": [
       "FloatSlider(value=200.0, description='E [GPa]', max=220.0, min=100.0, step=1.0)"
      ]
     },
     "metadata": {},
     "output_type": "display_data"
    },
    {
     "data": {
      "application/vnd.jupyter.widget-view+json": {
       "model_id": "45a16e58b902437ba42d89bc9ccab0af",
       "version_major": 2,
       "version_minor": 0
      },
      "text/plain": [
       "FloatSlider(value=120.0, description='S_h [MPa]', max=300.0, min=50.0, step=1.0)"
      ]
     },
     "metadata": {},
     "output_type": "display_data"
    },
    {
     "data": {
      "application/vnd.jupyter.widget-view+json": {
       "model_id": "967a4ca135614fd2b7451a25ad17c7ab",
       "version_major": 2,
       "version_minor": 0
      },
      "text/plain": [
       "FloatSlider(value=10.0, description='δ_adm [mm]', max=50.0, min=1.0, step=1.0)"
      ]
     },
     "metadata": {},
     "output_type": "display_data"
    },
    {
     "data": {
      "application/vnd.jupyter.widget-view+json": {
       "model_id": "e6f05fdd28664fe98419c33210dbc6b1",
       "version_major": 2,
       "version_minor": 0
      },
      "text/plain": [
       "FloatText(value=0.0, description='Peso aislamiento [N/m]')"
      ]
     },
     "metadata": {},
     "output_type": "display_data"
    },
    {
     "data": {
      "application/vnd.jupyter.widget-view+json": {
       "model_id": "d445321587ae4392979ed3cad8951ceb",
       "version_major": 2,
       "version_minor": 0
      },
      "text/plain": [
       "Button(button_style='warning', description='🔄 Resetear valores', style=ButtonStyle())"
      ]
     },
     "metadata": {},
     "output_type": "display_data"
    },
    {
     "data": {
      "application/vnd.jupyter.widget-view+json": {
       "model_id": "33b213deee9d490caffcdeecd6996b55",
       "version_major": 2,
       "version_minor": 0
      },
      "text/plain": [
       "Output()"
      ]
     },
     "metadata": {},
     "output_type": "display_data"
    }
   ],
   "source": [
    "# %% [markdown]\n",
    "# # 🧮 Cálculo de Span Máximo entre Soportes en Tuberías\n",
    "# Según ASME B31.3 – Criterios de esfuerzo y deformación\n",
    "\n",
    "# %%\n",
    "import ipywidgets as widgets\n",
    "from IPython.display import display, HTML\n",
    "from math import pi, sqrt\n",
    "\n",
    "# === Valores por defecto ===\n",
    "defaults = {\n",
    "    \"D_o\": 219.1,       # mm\n",
    "    \"t_n\": 8.18,        # mm\n",
    "    \"rho_steel\": 7850,  # kg/m³\n",
    "    \"rho_fluid\": 1000,  # kg/m³\n",
    "    \"g\": 9.81,          # m/s²\n",
    "    \"E_GPa\": 200.0,     # GPa\n",
    "    \"S_h_MPa\": 120.0,   # MPa\n",
    "    \"delta_adm\": 10.0,  # mm\n",
    "    \"w_insul\": 0.0      # N/m\n",
    "}\n",
    "\n",
    "# === Widgets de entrada ===\n",
    "D_o        = widgets.FloatSlider(value=defaults[\"D_o\"], min=50, max=600, step=1, description=\"D_o [mm]\")\n",
    "t_n        = widgets.FloatSlider(value=defaults[\"t_n\"], min=1, max=30, step=0.1, description=\"t_n [mm]\")\n",
    "rho_steel  = widgets.FloatText(value=defaults[\"rho_steel\"], description=\"ρ acero [kg/m³]\")\n",
    "rho_fluid  = widgets.FloatText(value=defaults[\"rho_fluid\"], description=\"ρ fluido [kg/m³]\")\n",
    "g          = widgets.FloatText(value=defaults[\"g\"], description=\"g [m/s²]\")\n",
    "E_GPa      = widgets.FloatSlider(value=defaults[\"E_GPa\"], min=100, max=220, step=1, description=\"E [GPa]\")\n",
    "S_h_MPa    = widgets.FloatSlider(value=defaults[\"S_h_MPa\"], min=50, max=300, step=1, description=\"S_h [MPa]\")\n",
    "delta_adm  = widgets.FloatSlider(value=defaults[\"delta_adm\"], min=1, max=50, step=1, description=\"δ_adm [mm]\")\n",
    "w_insul    = widgets.FloatText(value=defaults[\"w_insul\"], description=\"Peso aislamiento [N/m]\")\n",
    "\n",
    "# Botón reset\n",
    "reset_btn = widgets.Button(description=\"🔄 Resetear valores\", button_style=\"warning\")\n",
    "\n",
    "def reset_values(b):\n",
    "    D_o.value, t_n.value = defaults[\"D_o\"], defaults[\"t_n\"]\n",
    "    rho_steel.value, rho_fluid.value = defaults[\"rho_steel\"], defaults[\"rho_fluid\"]\n",
    "    g.value, E_GPa.value = defaults[\"g\"], defaults[\"E_GPa\"]\n",
    "    S_h_MPa.value, delta_adm.value = defaults[\"S_h_MPa\"], defaults[\"delta_adm\"]\n",
    "    w_insul.value = defaults[\"w_insul\"]\n",
    "\n",
    "reset_btn.on_click(reset_values)\n",
    "\n",
    "# Mostrar controles\n",
    "display(D_o, t_n, rho_steel, rho_fluid, g, E_GPa, S_h_MPa, delta_adm, w_insul, reset_btn)\n",
    "\n",
    "# === Función de cálculo ===\n",
    "def calcular(D_o, t_n, rho_steel, rho_fluid, g, E_GPa, S_h_MPa, delta_adm, w_insul):\n",
    "    # Conversión a SI\n",
    "    D_o_m = D_o / 1000\n",
    "    D_i_m = (D_o - 2*t_n) / 1000\n",
    "    E     = E_GPa * 1e9\n",
    "    S_h   = S_h_MPa * 1e6\n",
    "\n",
    "    # Áreas y pesos lineales\n",
    "    A_pared = (pi/4) * (D_o_m**2 - D_i_m**2)\n",
    "    A_fluid = (pi/4) * D_i_m**2\n",
    "    W_pared = A_pared * rho_steel * g\n",
    "    W_fluid = A_fluid * rho_fluid * g\n",
    "    W_total = W_pared + W_fluid + w_insul\n",
    "\n",
    "    # Propiedades geométricas\n",
    "    I = (pi/64) * (D_o_m**4 - D_i_m**4)\n",
    "    Z = I / (D_o_m/2)\n",
    "\n",
    "    # Spans\n",
    "    L_sft_m     = sqrt((8 * Z * S_h) / W_total)\n",
    "    L_flecha_m  = ((384 * E * I * (delta_adm/1000)) / (5 * W_total))**0.25\n",
    "    L_span_m    = min(L_sft_m, L_flecha_m)\n",
    "\n",
    "    # Conversión a mm\n",
    "    L_sft    = L_sft_m * 1000\n",
    "    L_flecha = L_flecha_m * 1000\n",
    "    L_span   = L_span_m * 1000\n",
    "\n",
    "    # Resultados en HTML\n",
    "    html = f\"\"\"\n",
    "    <div style=\"border:2px solid #006400; border-radius:10px; padding:15px; background:#f9f9f9; font-family:Arial;\">\n",
    "        <h3 style=\"color:#006400;\">📊 Resultados del cálculo de soporte</h3>\n",
    "        <ul style=\"font-size:15px; line-height:1.6;\">\n",
    "            <li>📏 <b>Span por esfuerzo admisible:</b> {L_sft:.1f} mm</li>\n",
    "            <li>📐 <b>Span por flecha admisible:</b> {L_flecha:.1f} mm</li>\n",
    "            <li>✅ <b>Span adoptado:</b> {L_span:.1f} mm</li>\n",
    "        </ul>\n",
    "    </div>\n",
    "    \"\"\"\n",
    "    display(HTML(html))\n",
    "\n",
    "# === Conectar widgets ===\n",
    "out = widgets.interactive_output(\n",
    "    calcular, {\n",
    "        \"D_o\": D_o, \"t_n\": t_n, \"rho_steel\": rho_steel, \"rho_fluid\": rho_fluid,\n",
    "        \"g\": g, \"E_GPa\": E_GPa, \"S_h_MPa\": S_h_MPa, \"delta_adm\": delta_adm, \"w_insul\": w_insul\n",
    "    }\n",
    ")\n",
    "display(out)"
   ]
  },
  {
   "cell_type": "code",
   "execution_count": null,
   "id": "983b3359",
   "metadata": {},
   "outputs": [],
   "source": []
  }
 ],
 "metadata": {
  "kernelspec": {
   "display_name": "venv (3.13.5)",
   "language": "python",
   "name": "python3"
  },
  "language_info": {
   "codemirror_mode": {
    "name": "ipython",
    "version": 3
   },
   "file_extension": ".py",
   "mimetype": "text/x-python",
   "name": "python",
   "nbconvert_exporter": "python",
   "pygments_lexer": "ipython3",
   "version": "3.13.5"
  }
 },
 "nbformat": 4,
 "nbformat_minor": 5
}

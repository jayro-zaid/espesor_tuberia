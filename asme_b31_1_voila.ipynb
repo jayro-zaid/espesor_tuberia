{
 "cells": [
  {
   "cell_type": "markdown",
   "id": "9d221cbf",
   "metadata": {},
   "source": [
    "# Análisis Comparativo de Diseño de Tuberías según Códigos ASME B31.X"
   ]
  },
  {
   "cell_type": "markdown",
   "id": "0d0a6af2",
   "metadata": {},
   "source": [
    "## ASME B31.1:2022"
   ]
  },
  {
   "cell_type": "code",
   "execution_count": 38,
   "id": "d4dbe249",
   "metadata": {},
   "outputs": [],
   "source": [
    "from math import sqrt\n",
    "from math import pi, sqrt\n",
    "import ipywidgets as widgets\n",
    "from IPython.display import display, Markdown"
   ]
  },
  {
   "cell_type": "markdown",
   "id": "2944798a",
   "metadata": {},
   "source": [
    "### CÁLCULO DEL ESPESOR REQUERIDO"
   ]
  },
  {
   "cell_type": "code",
   "execution_count": null,
   "id": "b86455a9",
   "metadata": {},
   "outputs": [
    {
     "data": {
      "application/vnd.jupyter.widget-view+json": {
       "model_id": "ee446ee0dbee40b5829aa52462b8a323",
       "version_major": 2,
       "version_minor": 0
      },
      "text/plain": [
       "FloatSlider(value=2.0, description='P [MPa]', max=10.0, min=0.1)"
      ]
     },
     "metadata": {},
     "output_type": "display_data"
    },
    {
     "data": {
      "application/vnd.jupyter.widget-view+json": {
       "model_id": "7aeb3a4696334cb28df26ea5f893c58f",
       "version_major": 2,
       "version_minor": 0
      },
      "text/plain": [
       "FloatSlider(value=219.1, description='D_o [mm]', max=600.0, min=50.0, step=1.0)"
      ]
     },
     "metadata": {},
     "output_type": "display_data"
    },
    {
     "data": {
      "application/vnd.jupyter.widget-view+json": {
       "model_id": "c8b692f52a954c9491dfaa258990ff0c",
       "version_major": 2,
       "version_minor": 0
      },
      "text/plain": [
       "FloatSlider(value=120.0, description='S [MPa]', max=300.0, min=10.0, step=1.0)"
      ]
     },
     "metadata": {},
     "output_type": "display_data"
    },
    {
     "data": {
      "application/vnd.jupyter.widget-view+json": {
       "model_id": "956fe01e18fc4bff9aa5d3b38a704a50",
       "version_major": 2,
       "version_minor": 0
      },
      "text/plain": [
       "FloatSlider(value=1.0, description='E', max=1.0, min=0.6, step=0.05)"
      ]
     },
     "metadata": {},
     "output_type": "display_data"
    },
    {
     "data": {
      "application/vnd.jupyter.widget-view+json": {
       "model_id": "7ec590c2d49c451dad7468ef85ff294b",
       "version_major": 2,
       "version_minor": 0
      },
      "text/plain": [
       "FloatSlider(value=1.0, description='W', max=1.0, min=0.5, step=0.05)"
      ]
     },
     "metadata": {},
     "output_type": "display_data"
    },
    {
     "data": {
      "application/vnd.jupyter.widget-view+json": {
       "model_id": "e0aff1adeb9741a99a1b1c5121435c28",
       "version_major": 2,
       "version_minor": 0
      },
      "text/plain": [
       "FloatSlider(value=0.4, description='Y', max=0.8, step=0.05)"
      ]
     },
     "metadata": {},
     "output_type": "display_data"
    },
    {
     "data": {
      "application/vnd.jupyter.widget-view+json": {
       "model_id": "0e0af7fc10314b54aedbea8f9982138d",
       "version_major": 2,
       "version_minor": 0
      },
      "text/plain": [
       "FloatText(value=1.5, description='A [mm]')"
      ]
     },
     "metadata": {},
     "output_type": "display_data"
    },
    {
     "data": {
      "application/vnd.jupyter.widget-view+json": {
       "model_id": "cf8938f769ee417685305bea509e0d0d",
       "version_major": 2,
       "version_minor": 0
      },
      "text/plain": [
       "FloatText(value=8.18, description='t_n [mm]')"
      ]
     },
     "metadata": {},
     "output_type": "display_data"
    },
    {
     "data": {
      "application/vnd.jupyter.widget-view+json": {
       "model_id": "553de50639b74d96808a1ca974e0f016",
       "version_major": 2,
       "version_minor": 0
      },
      "text/plain": [
       "FloatSlider(value=0.125, description='Tol', max=0.3, step=0.01)"
      ]
     },
     "metadata": {},
     "output_type": "display_data"
    },
    {
     "data": {
      "application/vnd.jupyter.widget-view+json": {
       "model_id": "610c53a270d24ffab8c8adb32cc28c38",
       "version_major": 2,
       "version_minor": 0
      },
      "text/plain": [
       "Button(button_style='warning', description='🔄 Resetear valores', style=ButtonStyle())"
      ]
     },
     "metadata": {},
     "output_type": "display_data"
    },
    {
     "data": {
      "application/vnd.jupyter.widget-view+json": {
       "model_id": "670144c3d1c0472680048ed1328267cc",
       "version_major": 2,
       "version_minor": 0
      },
      "text/plain": [
       "Output()"
      ]
     },
     "metadata": {},
     "output_type": "display_data"
    }
   ],
   "source": [
    "import ipywidgets as widgets\n",
    "from IPython.display import display, HTML\n",
    "\n",
    "# === Valores por defecto ===\n",
    "defaults = {\n",
    "    \"P\": 2.0,\n",
    "    \"D_o\": 219.1,\n",
    "    \"S\": 120.0,\n",
    "    \"E\": 1.0,\n",
    "    \"W\": 1.0,\n",
    "    \"Y\": 0.4,\n",
    "    \"A\": 1.5,\n",
    "    \"t_n\": 8.18,\n",
    "    \"tol\": 0.125\n",
    "}\n",
    "\n",
    "# === Widgets de entrada ===\n",
    "P    = widgets.FloatSlider(value=defaults[\"P\"], min=0.1, max=10.0, step=0.1, description='P [MPa]')\n",
    "D_o  = widgets.FloatSlider(value=defaults[\"D_o\"], min=50, max=600, step=1, description='D_o [mm]')\n",
    "S    = widgets.FloatSlider(value=defaults[\"S\"], min=10, max=300, step=1, description='S [MPa]')\n",
    "E    = widgets.FloatSlider(value=defaults[\"E\"], min=0.6, max=1.0, step=0.05, description='E')\n",
    "W    = widgets.FloatSlider(value=defaults[\"W\"], min=0.5, max=1.0, step=0.05, description='W')\n",
    "Y    = widgets.FloatSlider(value=defaults[\"Y\"], min=0.0, max=0.8, step=0.05, description='Y')\n",
    "A    = widgets.FloatText(value=defaults[\"A\"], description='A [mm]')\n",
    "t_n  = widgets.FloatText(value=defaults[\"t_n\"], description='t_n [mm]')\n",
    "tol  = widgets.FloatSlider(value=defaults[\"tol\"], min=0.0, max=0.3, step=0.01, description='Tol')\n",
    "\n",
    "# Botón reset\n",
    "reset_btn = widgets.Button(description=\"🔄 Resetear valores\", button_style=\"warning\")\n",
    "\n",
    "# === Función de reset ===\n",
    "def reset_values(b):\n",
    "    P.value    = defaults[\"P\"]\n",
    "    D_o.value  = defaults[\"D_o\"]\n",
    "    S.value    = defaults[\"S\"]\n",
    "    E.value    = defaults[\"E\"]\n",
    "    W.value    = defaults[\"W\"]\n",
    "    Y.value    = defaults[\"Y\"]\n",
    "    A.value    = defaults[\"A\"]\n",
    "    t_n.value  = defaults[\"t_n\"]\n",
    "    tol.value  = defaults[\"tol\"]\n",
    "\n",
    "reset_btn.on_click(reset_values)\n",
    "\n",
    "# Mostrar controles + botón\n",
    "display(P, D_o, S, E, W, Y, A, t_n, tol, reset_btn)\n",
    "\n",
    "# === Función de cálculo ===\n",
    "def calcular(P, D_o, S, E, W, Y, A, t_n, tol):\n",
    "    P_si    = P * 1e6\n",
    "    D_o_si  = D_o / 1000\n",
    "    S_si    = S * 1e6\n",
    "    A_si    = A / 1000\n",
    "    t_n_si  = t_n / 1000\n",
    "\n",
    "    numerador   = P_si * D_o_si\n",
    "    denominador = 2 * (S_si * E * W + P_si * Y)\n",
    "    t_min_si    = (numerador / denominador) + A_si  # [m]\n",
    "\n",
    "    t_disp_si = t_n_si * (1 - tol)                  # [m]\n",
    "\n",
    "    t_min  = t_min_si * 1000\n",
    "    t_disp = t_disp_si * 1000\n",
    "    criterio = \"✅ Cumplido\" if t_disp_si >= t_min_si else \"❌ NO Cumplido\"\n",
    "\n",
    "    html = f\"\"\"\n",
    "    <div style=\"border:2px solid #004080; border-radius:10px; padding:15px; background:#f9f9f9; font-family:Arial;\">\n",
    "        <h3 style=\"color:#004080;\">📊 Resultados del Cálculo</h3>\n",
    "        <ul style=\"font-size:15px; line-height:1.6;\">\n",
    "            <li>📏 <b>Espesor mínimo requerido:</b> {t_min:.2f} mm</li>\n",
    "            <li>📐 <b>Espesor disponible:</b> {t_disp:.2f} mm</li>\n",
    "        </ul>\n",
    "        <p style=\"font-size:16px;\"><b>Criterio de aceptación:</b> {criterio}</p>\n",
    "    </div>\n",
    "    \"\"\"\n",
    "    display(HTML(html))\n",
    "\n",
    "# === Conectar widgets ===\n",
    "out = widgets.interactive_output(\n",
    "    calcular, {\"P\": P, \"D_o\": D_o, \"S\": S, \"E\": E, \"W\": W, \"Y\": Y, \"A\": A, \"t_n\": t_n, \"tol\": tol}\n",
    ")\n",
    "display(out)"
   ]
  },
  {
   "cell_type": "markdown",
   "id": "bf9ef11e",
   "metadata": {},
   "source": [
    "### CÁLCULO DE ESFUERZOS"
   ]
  },
  {
   "cell_type": "code",
   "execution_count": 40,
   "id": "925e7f78",
   "metadata": {},
   "outputs": [
    {
     "data": {
      "application/vnd.jupyter.widget-view+json": {
       "model_id": "ffd720aee930421cafb94a9e8a7bbc33",
       "version_major": 2,
       "version_minor": 0
      },
      "text/plain": [
       "FloatSlider(value=2.0, description='P [MPa]', max=10.0, min=0.1)"
      ]
     },
     "metadata": {},
     "output_type": "display_data"
    },
    {
     "data": {
      "application/vnd.jupyter.widget-view+json": {
       "model_id": "2103ca37838e4c1f9e951e5b8a49318d",
       "version_major": 2,
       "version_minor": 0
      },
      "text/plain": [
       "FloatSlider(value=219.1, description='D_o [mm]', max=600.0, min=50.0, step=1.0)"
      ]
     },
     "metadata": {},
     "output_type": "display_data"
    },
    {
     "data": {
      "application/vnd.jupyter.widget-view+json": {
       "model_id": "228a013c60d04f2a9e966181d3a48a70",
       "version_major": 2,
       "version_minor": 0
      },
      "text/plain": [
       "FloatSlider(value=8.18, description='t_n [mm]', max=30.0, min=1.0)"
      ]
     },
     "metadata": {},
     "output_type": "display_data"
    },
    {
     "data": {
      "application/vnd.jupyter.widget-view+json": {
       "model_id": "02af562929bc404783bb75b03d4fe3c0",
       "version_major": 2,
       "version_minor": 0
      },
      "text/plain": [
       "FloatText(value=0.005, description='A_p [m²]')"
      ]
     },
     "metadata": {},
     "output_type": "display_data"
    },
    {
     "data": {
      "application/vnd.jupyter.widget-view+json": {
       "model_id": "d9745495e5294a14bf033c73a3392bfe",
       "version_major": 2,
       "version_minor": 0
      },
      "text/plain": [
       "FloatText(value=0.0002756, description='Z [m³]')"
      ]
     },
     "metadata": {},
     "output_type": "display_data"
    },
    {
     "data": {
      "application/vnd.jupyter.widget-view+json": {
       "model_id": "5be7ef2db9ed4f059618a376950367a0",
       "version_major": 2,
       "version_minor": 0
      },
      "text/plain": [
       "FloatText(value=0.0005511, description='Z_t [m³]')"
      ]
     },
     "metadata": {},
     "output_type": "display_data"
    },
    {
     "data": {
      "application/vnd.jupyter.widget-view+json": {
       "model_id": "17681099ad3d4e71a762fd4261f667e9",
       "version_major": 2,
       "version_minor": 0
      },
      "text/plain": [
       "FloatText(value=120.0, description='S_h [MPa]')"
      ]
     },
     "metadata": {},
     "output_type": "display_data"
    },
    {
     "data": {
      "application/vnd.jupyter.widget-view+json": {
       "model_id": "2097cf579d654f8d94ed9ff218e6124a",
       "version_major": 2,
       "version_minor": 0
      },
      "text/plain": [
       "FloatText(value=138.0, description='S_c [MPa]')"
      ]
     },
     "metadata": {},
     "output_type": "display_data"
    },
    {
     "data": {
      "application/vnd.jupyter.widget-view+json": {
       "model_id": "d9fa7eae0d8e48dfaca717af810bdb49",
       "version_major": 2,
       "version_minor": 0
      },
      "text/plain": [
       "Button(button_style='warning', description='🔄 Resetear valores', style=ButtonStyle())"
      ]
     },
     "metadata": {},
     "output_type": "display_data"
    },
    {
     "data": {
      "application/vnd.jupyter.widget-view+json": {
       "model_id": "21d25983342d401eb755928158c101cd",
       "version_major": 2,
       "version_minor": 0
      },
      "text/plain": [
       "Output()"
      ]
     },
     "metadata": {},
     "output_type": "display_data"
    }
   ],
   "source": [
    "# %% [markdown]\n",
    "# # ⚙️ Cálculo de Esfuerzos Combinados en Tuberías\n",
    "# Basado en ASME B31.3 – Ecuaciones 15, 16 y 17\n",
    "\n",
    "# %%\n",
    "import ipywidgets as widgets\n",
    "from IPython.display import display, HTML\n",
    "from math import sqrt\n",
    "\n",
    "# === Valores por defecto ===\n",
    "defaults = {\n",
    "    \"P\": 2.0,      # MPa\n",
    "    \"D_o\": 219.1,  # mm\n",
    "    \"t_n\": 8.18,   # mm\n",
    "    \"A_p\": 0.005,  # m²\n",
    "    \"Z\": 0.0002756,\n",
    "    \"Z_t\": 0.0005511,\n",
    "    \"S_h\": 120.0,  # MPa\n",
    "    \"S_c\": 138.0,  # MPa\n",
    "    # Cargas sostenidas\n",
    "    \"F_a\": 0.0, \"M_iA\": 3000.0, \"M_oA\": 1500.0, \"M_tA\": 0.0,\n",
    "    # Cargas ocasionales\n",
    "    \"F_b\": 0.0, \"M_iB\": 8000.0, \"M_oB\": 3500.0, \"M_tB\": 0.0,\n",
    "    # Cargas de desplazamiento\n",
    "    \"F_c\": 0.0, \"M_iC\": 12000.0, \"M_oC\": 6000.0, \"M_tC\": 0.0,\n",
    "    \"N\": 1e6,\n",
    "    # Índices de esfuerzo\n",
    "    \"I_i\": 1.0, \"I_o\": 1.0, \"I_t\": 1.0,\n",
    "    \"i_a\": 1.0, \"i_l\": 1.0, \"i_o\": 1.0, \"i_t\": 1.0\n",
    "}\n",
    "\n",
    "# === Widgets de entrada ===\n",
    "P     = widgets.FloatSlider(value=defaults[\"P\"], min=0.1, max=10.0, step=0.1, description=\"P [MPa]\")\n",
    "D_o   = widgets.FloatSlider(value=defaults[\"D_o\"], min=50, max=600, step=1, description=\"D_o [mm]\")\n",
    "t_n   = widgets.FloatSlider(value=defaults[\"t_n\"], min=1, max=30, step=0.1, description=\"t_n [mm]\")\n",
    "A_p   = widgets.FloatText(value=defaults[\"A_p\"], description=\"A_p [m²]\")\n",
    "Z     = widgets.FloatText(value=defaults[\"Z\"], description=\"Z [m³]\")\n",
    "Z_t   = widgets.FloatText(value=defaults[\"Z_t\"], description=\"Z_t [m³]\")\n",
    "S_h   = widgets.FloatText(value=defaults[\"S_h\"], description=\"S_h [MPa]\")\n",
    "S_c   = widgets.FloatText(value=defaults[\"S_c\"], description=\"S_c [MPa]\")\n",
    "\n",
    "# Botón reset\n",
    "reset_btn = widgets.Button(description=\"🔄 Resetear valores\", button_style=\"warning\")\n",
    "def reset_values(b):\n",
    "    P.value, D_o.value, t_n.value = defaults[\"P\"], defaults[\"D_o\"], defaults[\"t_n\"]\n",
    "    A_p.value, Z.value, Z_t.value = defaults[\"A_p\"], defaults[\"Z\"], defaults[\"Z_t\"]\n",
    "    S_h.value, S_c.value          = defaults[\"S_h\"], defaults[\"S_c\"]\n",
    "reset_btn.on_click(reset_values)\n",
    "\n",
    "# Mostrar controles\n",
    "display(P, D_o, t_n, A_p, Z, Z_t, S_h, S_c, reset_btn)\n",
    "\n",
    "# === Función de cálculo (robusta contra KeyError) ===\n",
    "def calcular(P, D_o, t_n, A_p, Z, Z_t, S_h, S_c):\n",
    "    # Conversión a SI\n",
    "    P_si   = P * 1e6        # Pa\n",
    "    D_o_si = D_o / 1000     # m\n",
    "    t_si   = t_n / 1000     # m\n",
    "\n",
    "    # Longitudinal por presión\n",
    "    S_lp = (P_si * D_o_si) / (4 * t_si)  # Pa\n",
    "\n",
    "    # === Ecuación 15: Sostenido ===\n",
    "    F_a   = defaults.get(\"F_a\", 0.0)\n",
    "    I_i   = defaults.get(\"I_i\", 1.0)\n",
    "    I_o   = defaults.get(\"I_o\", 1.0)\n",
    "    I_t   = defaults.get(\"I_t\", 1.0)\n",
    "    M_iA  = defaults.get(\"M_iA\", 0.0)\n",
    "    M_oA  = defaults.get(\"M_oA\", 0.0)\n",
    "    M_tA  = defaults.get(\"M_tA\", 0.0)\n",
    "\n",
    "    S_ax          = (F_a / A_p) + S_lp        # Pa\n",
    "    M_in_plane    = (I_i * M_iA) / Z          # Pa\n",
    "    M_out_of_plane= (I_o * M_oA) / Z          # Pa\n",
    "    M_torsional   = (I_t * M_tA) / Z_t        # Pa\n",
    "    S_sost_Pa     = sqrt(S_ax**2 + M_in_plane**2 + M_out_of_plane**2 + 3*M_torsional**2)\n",
    "    S_sost        = S_sost_Pa / 1e6           # MPa\n",
    "    criterio_15   = \"✅ Cumplido\" if S_sost <= S_h else \"❌ NO Cumplido\"\n",
    "\n",
    "    # === Ecuación 16: Ocasional ===\n",
    "    F_b   = defaults.get(\"F_b\", 0.0)\n",
    "    M_iB  = defaults.get(\"M_iB\", 0.0)\n",
    "    M_oB  = defaults.get(\"M_oB\", 0.0)\n",
    "    M_tB  = defaults.get(\"M_tB\", 0.0)\n",
    "\n",
    "    S_bx    = (F_b / A_p) + S_lp\n",
    "    M_iB_Pa = (I_i * M_iB) / Z\n",
    "    M_oB_Pa = (I_o * M_oB) / Z\n",
    "    M_tB_Pa = (I_t * M_tB) / Z_t\n",
    "    S_oc_Pa = sqrt(S_bx**2 + M_iB_Pa**2 + M_oB_Pa**2 + 3*M_tB_Pa**2)\n",
    "    S_oc    = S_oc_Pa / 1e6\n",
    "    criterio_16 = \"✅ Cumplido\" if S_oc <= 1.15 * S_h else \"❌ NO Cumplido\"\n",
    "\n",
    "    # === Ecuación 17: Desplazamiento ===\n",
    "    i_a  = defaults.get(\"i_a\", 1.0)\n",
    "    i_l  = defaults.get(\"i_l\", 1.0)\n",
    "    i_o_ = defaults.get(\"i_o\", 1.0)  # evitar sombrear i_o\n",
    "    i_t_ = defaults.get(\"i_t\", 1.0)\n",
    "\n",
    "    F_c  = defaults.get(\"F_c\", 0.0)\n",
    "    M_iC = defaults.get(\"M_iC\", 0.0)\n",
    "    M_oC = defaults.get(\"M_oC\", 0.0)\n",
    "    M_tC = defaults.get(\"M_tC\", 0.0)\n",
    "    N    = defaults.get(\"N\", 1e6)\n",
    "\n",
    "    F_disp_Pa = (i_a * F_c) / A_p\n",
    "    M_l_disp  = (i_l * M_iC) / Z\n",
    "    M_o_disp  = (i_o_ * M_oC) / Z\n",
    "    M_t_disp  = (i_t_ * M_tC) / Z_t\n",
    "    S_des_Pa  = sqrt(F_disp_Pa**2 + M_l_disp**2 + M_o_disp**2 + 3*M_t_disp**2)\n",
    "    S_des     = S_des_Pa / 1e6\n",
    "\n",
    "    f   = min(1.0, 6.0 / (N**0.2))\n",
    "    S_A = f * (1.25 * S_c + 0.25 * S_h)  # MPa\n",
    "    criterio_17 = \"✅ Cumplido\" if S_des <= S_A else \"❌ NO Cumplido\"\n",
    "\n",
    "    # === Mostrar resultados en HTML ===\n",
    "    html = f\"\"\"\n",
    "    <div style=\"border:2px solid #004080; border-radius:10px; padding:16px; background:#f9f9f9; font-family:Arial, sans-serif;\">\n",
    "        <h3 style=\"color:#004080; margin-top:0;\">📊 Resultados de Esfuerzos</h3>\n",
    "        <ul style=\"font-size:15px; line-height:1.6; margin:0 0 8px 18px;\">\n",
    "            <li>🟦 <b>Sostenido (Eq. 15):</b> {S_sost:.2f} MPa → {criterio_15}</li>\n",
    "            <li>🟨 <b>Ocasional (Eq. 16):</b> {S_oc:.2f} MPa → {criterio_16}</li>\n",
    "            <li>🟥 <b>Desplazamiento (Eq. 17):</b> {S_des:.2f} MPa → {criterio_17}</li>\n",
    "        </ul>\n",
    "    </div>\n",
    "    \"\"\"\n",
    "    display(HTML(html))\n",
    "\n",
    "# === Conectar widgets ===\n",
    "out = widgets.interactive_output(\n",
    "    calcular, {\"P\": P, \"D_o\": D_o, \"t_n\": t_n, \"A_p\": A_p, \"Z\": Z, \"Z_t\": Z_t, \"S_h\": S_h, \"S_c\": S_c}\n",
    ")\n",
    "display(out)"
   ]
  },
  {
   "cell_type": "markdown",
   "id": "73d7c302",
   "metadata": {},
   "source": [
    "### CÁLCULO DE SOPORTES (SPAN)"
   ]
  },
  {
   "cell_type": "code",
   "execution_count": 41,
   "id": "5e7c91a5",
   "metadata": {},
   "outputs": [
    {
     "data": {
      "application/vnd.jupyter.widget-view+json": {
       "model_id": "8f7204be6e3244c097c80502425618a9",
       "version_major": 2,
       "version_minor": 0
      },
      "text/plain": [
       "FloatSlider(value=219.1, description='D_o [mm]', max=600.0, min=50.0, step=1.0)"
      ]
     },
     "metadata": {},
     "output_type": "display_data"
    },
    {
     "data": {
      "application/vnd.jupyter.widget-view+json": {
       "model_id": "21e9d451fff34c968fd6975926d5f04d",
       "version_major": 2,
       "version_minor": 0
      },
      "text/plain": [
       "FloatSlider(value=8.18, description='t_n [mm]', max=30.0, min=1.0)"
      ]
     },
     "metadata": {},
     "output_type": "display_data"
    },
    {
     "data": {
      "application/vnd.jupyter.widget-view+json": {
       "model_id": "19c26322f315456b984fa6ae75becfed",
       "version_major": 2,
       "version_minor": 0
      },
      "text/plain": [
       "FloatText(value=7850.0, description='ρ acero [kg/m³]')"
      ]
     },
     "metadata": {},
     "output_type": "display_data"
    },
    {
     "data": {
      "application/vnd.jupyter.widget-view+json": {
       "model_id": "059d6d497b014e188e9b7e1b307b9243",
       "version_major": 2,
       "version_minor": 0
      },
      "text/plain": [
       "FloatText(value=1000.0, description='ρ fluido [kg/m³]')"
      ]
     },
     "metadata": {},
     "output_type": "display_data"
    },
    {
     "data": {
      "application/vnd.jupyter.widget-view+json": {
       "model_id": "4f50bd430bed4822af2710577e92921b",
       "version_major": 2,
       "version_minor": 0
      },
      "text/plain": [
       "FloatText(value=9.81, description='g [m/s²]')"
      ]
     },
     "metadata": {},
     "output_type": "display_data"
    },
    {
     "data": {
      "application/vnd.jupyter.widget-view+json": {
       "model_id": "5c9b3256358c4ff0afc9825586b6d002",
       "version_major": 2,
       "version_minor": 0
      },
      "text/plain": [
       "FloatSlider(value=200.0, description='E [GPa]', max=220.0, min=100.0, step=1.0)"
      ]
     },
     "metadata": {},
     "output_type": "display_data"
    },
    {
     "data": {
      "application/vnd.jupyter.widget-view+json": {
       "model_id": "6303f2240cae4a11b59b0e4be21d40f9",
       "version_major": 2,
       "version_minor": 0
      },
      "text/plain": [
       "FloatSlider(value=120.0, description='S_h [MPa]', max=300.0, min=50.0, step=1.0)"
      ]
     },
     "metadata": {},
     "output_type": "display_data"
    },
    {
     "data": {
      "application/vnd.jupyter.widget-view+json": {
       "model_id": "8a64dcaa3b714dda9c4f81c1a78ac1a8",
       "version_major": 2,
       "version_minor": 0
      },
      "text/plain": [
       "FloatSlider(value=10.0, description='δ_adm [mm]', max=50.0, min=1.0, step=1.0)"
      ]
     },
     "metadata": {},
     "output_type": "display_data"
    },
    {
     "data": {
      "application/vnd.jupyter.widget-view+json": {
       "model_id": "70454bcc3d2540939b9067d22ca48cd2",
       "version_major": 2,
       "version_minor": 0
      },
      "text/plain": [
       "FloatText(value=0.0, description='Peso aislamiento [N/m]')"
      ]
     },
     "metadata": {},
     "output_type": "display_data"
    },
    {
     "data": {
      "application/vnd.jupyter.widget-view+json": {
       "model_id": "e6673ebf92434338bc4adaa57246be7f",
       "version_major": 2,
       "version_minor": 0
      },
      "text/plain": [
       "Button(button_style='warning', description='🔄 Resetear valores', style=ButtonStyle())"
      ]
     },
     "metadata": {},
     "output_type": "display_data"
    },
    {
     "data": {
      "application/vnd.jupyter.widget-view+json": {
       "model_id": "5f042bd3d0d04504b264590dc40ebbd7",
       "version_major": 2,
       "version_minor": 0
      },
      "text/plain": [
       "Output()"
      ]
     },
     "metadata": {},
     "output_type": "display_data"
    }
   ],
   "source": [
    "# %% [markdown]\n",
    "# # 🧮 Cálculo de Span Máximo entre Soportes en Tuberías\n",
    "# Según ASME B31.3 – Criterios de esfuerzo y deformación\n",
    "\n",
    "# %%\n",
    "import ipywidgets as widgets\n",
    "from IPython.display import display, HTML\n",
    "from math import pi, sqrt\n",
    "\n",
    "# === Valores por defecto ===\n",
    "defaults = {\n",
    "    \"D_o\": 219.1,       # mm\n",
    "    \"t_n\": 8.18,        # mm\n",
    "    \"rho_steel\": 7850,  # kg/m³\n",
    "    \"rho_fluid\": 1000,  # kg/m³\n",
    "    \"g\": 9.81,          # m/s²\n",
    "    \"E_GPa\": 200.0,     # GPa\n",
    "    \"S_h_MPa\": 120.0,   # MPa\n",
    "    \"delta_adm\": 10.0,  # mm\n",
    "    \"w_insul\": 0.0      # N/m\n",
    "}\n",
    "\n",
    "# === Widgets de entrada ===\n",
    "D_o        = widgets.FloatSlider(value=defaults[\"D_o\"], min=50, max=600, step=1, description=\"D_o [mm]\")\n",
    "t_n        = widgets.FloatSlider(value=defaults[\"t_n\"], min=1, max=30, step=0.1, description=\"t_n [mm]\")\n",
    "rho_steel  = widgets.FloatText(value=defaults[\"rho_steel\"], description=\"ρ acero [kg/m³]\")\n",
    "rho_fluid  = widgets.FloatText(value=defaults[\"rho_fluid\"], description=\"ρ fluido [kg/m³]\")\n",
    "g          = widgets.FloatText(value=defaults[\"g\"], description=\"g [m/s²]\")\n",
    "E_GPa      = widgets.FloatSlider(value=defaults[\"E_GPa\"], min=100, max=220, step=1, description=\"E [GPa]\")\n",
    "S_h_MPa    = widgets.FloatSlider(value=defaults[\"S_h_MPa\"], min=50, max=300, step=1, description=\"S_h [MPa]\")\n",
    "delta_adm  = widgets.FloatSlider(value=defaults[\"delta_adm\"], min=1, max=50, step=1, description=\"δ_adm [mm]\")\n",
    "w_insul    = widgets.FloatText(value=defaults[\"w_insul\"], description=\"Peso aislamiento [N/m]\")\n",
    "\n",
    "# Botón reset\n",
    "reset_btn = widgets.Button(description=\"🔄 Resetear valores\", button_style=\"warning\")\n",
    "\n",
    "def reset_values(b):\n",
    "    D_o.value, t_n.value = defaults[\"D_o\"], defaults[\"t_n\"]\n",
    "    rho_steel.value, rho_fluid.value = defaults[\"rho_steel\"], defaults[\"rho_fluid\"]\n",
    "    g.value, E_GPa.value = defaults[\"g\"], defaults[\"E_GPa\"]\n",
    "    S_h_MPa.value, delta_adm.value = defaults[\"S_h_MPa\"], defaults[\"delta_adm\"]\n",
    "    w_insul.value = defaults[\"w_insul\"]\n",
    "\n",
    "reset_btn.on_click(reset_values)\n",
    "\n",
    "# Mostrar controles\n",
    "display(D_o, t_n, rho_steel, rho_fluid, g, E_GPa, S_h_MPa, delta_adm, w_insul, reset_btn)\n",
    "\n",
    "# === Función de cálculo ===\n",
    "def calcular(D_o, t_n, rho_steel, rho_fluid, g, E_GPa, S_h_MPa, delta_adm, w_insul):\n",
    "    # Conversión a SI\n",
    "    D_o_m = D_o / 1000\n",
    "    D_i_m = (D_o - 2*t_n) / 1000\n",
    "    E     = E_GPa * 1e9\n",
    "    S_h   = S_h_MPa * 1e6\n",
    "\n",
    "    # Áreas y pesos lineales\n",
    "    A_pared = (pi/4) * (D_o_m**2 - D_i_m**2)\n",
    "    A_fluid = (pi/4) * D_i_m**2\n",
    "    W_pared = A_pared * rho_steel * g\n",
    "    W_fluid = A_fluid * rho_fluid * g\n",
    "    W_total = W_pared + W_fluid + w_insul\n",
    "\n",
    "    # Propiedades geométricas\n",
    "    I = (pi/64) * (D_o_m**4 - D_i_m**4)\n",
    "    Z = I / (D_o_m/2)\n",
    "\n",
    "    # Spans\n",
    "    L_sft_m     = sqrt((8 * Z * S_h) / W_total)\n",
    "    L_flecha_m  = ((384 * E * I * (delta_adm/1000)) / (5 * W_total))**0.25\n",
    "    L_span_m    = min(L_sft_m, L_flecha_m)\n",
    "\n",
    "    # Conversión a mm\n",
    "    L_sft    = L_sft_m * 1000\n",
    "    L_flecha = L_flecha_m * 1000\n",
    "    L_span   = L_span_m * 1000\n",
    "\n",
    "    # Resultados en HTML\n",
    "    html = f\"\"\"\n",
    "    <div style=\"border:2px solid #006400; border-radius:10px; padding:15px; background:#f9f9f9; font-family:Arial;\">\n",
    "        <h3 style=\"color:#006400;\">📊 Resultados del cálculo de soporte</h3>\n",
    "        <ul style=\"font-size:15px; line-height:1.6;\">\n",
    "            <li>📏 <b>Span por esfuerzo admisible:</b> {L_sft:.1f} mm</li>\n",
    "            <li>📐 <b>Span por flecha admisible:</b> {L_flecha:.1f} mm</li>\n",
    "            <li>✅ <b>Span adoptado:</b> {L_span:.1f} mm</li>\n",
    "        </ul>\n",
    "    </div>\n",
    "    \"\"\"\n",
    "    display(HTML(html))\n",
    "\n",
    "# === Conectar widgets ===\n",
    "out = widgets.interactive_output(\n",
    "    calcular, {\n",
    "        \"D_o\": D_o, \"t_n\": t_n, \"rho_steel\": rho_steel, \"rho_fluid\": rho_fluid,\n",
    "        \"g\": g, \"E_GPa\": E_GPa, \"S_h_MPa\": S_h_MPa, \"delta_adm\": delta_adm, \"w_insul\": w_insul\n",
    "    }\n",
    ")\n",
    "display(out)"
   ]
  },
  {
   "cell_type": "code",
   "execution_count": null,
   "id": "983b3359",
   "metadata": {},
   "outputs": [],
   "source": []
  }
 ],
 "metadata": {
  "kernelspec": {
   "display_name": "venv (3.13.5)",
   "language": "python",
   "name": "python3"
  },
  "language_info": {
   "codemirror_mode": {
    "name": "ipython",
    "version": 3
   },
   "file_extension": ".py",
   "mimetype": "text/x-python",
   "name": "python",
   "nbconvert_exporter": "python",
   "pygments_lexer": "ipython3",
   "version": "3.13.5"
  }
 },
 "nbformat": 4,
 "nbformat_minor": 5
}
